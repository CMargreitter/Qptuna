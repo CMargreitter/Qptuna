{
 "cells": [
  {
   "cell_type": "markdown",
   "metadata": {},
   "source": [
    "# QPTUNA Tutorial"
   ]
  },
  {
   "cell_type": "markdown",
   "metadata": {},
   "source": [
    "## Background\n",
    "QPTUNA is a python package to automate the model building process for *REINVENT*. These models can use a variety of algorithms to fit to your input data and most of them have one or more so-called hyper-parameters (e.g. the maximum number of trees using a *Random Forest* or the C parameter in SVRs, controlling the influence of every support vector).\n",
    "\n",
    "For both regression and classification tasks, QPTUNA allows you to specify input data for which the optimal hyper-parameters and a model can obtained automatically. If you want to get an idea on how the package is structured, read on otherwise you might want to skip it and  The following examples should give you an idea how.\n"
   ]
  },
  {
   "cell_type": "markdown",
   "metadata": {},
   "source": [
    "### The three-step process\n",
    "\n",
    "Optuna_AZ is structured around three steps:\n",
    "1. **Hyperparameter Optimization:** \n",
    "    Train many models with different parameters using Optuna.\n",
    "    Only the training dataset is used here. \n",
    "    Training is usually done with cross-validation.\n",
    "2. **Build (Training):**\n",
    "    Pick the best model from Optimization, \n",
    "    re-train it without cross-validation,\n",
    "    and optionally evaluate its performance on the test dataset.\n",
    "3. **Prod-build (or build merged):** \n",
    "    Re-train the best-performing model on the merged training and test datasets. \n",
    "    This step has a drawback that there is no data left to evaluate the resulting model, \n",
    "    but it has a big benefit that this final model is trained on the all available data.   "
   ]
  },
  {
   "cell_type": "markdown",
   "metadata": {},
   "source": [
    "## Preparation"
   ]
  },
  {
   "cell_type": "markdown",
   "metadata": {
    "pycharm": {
     "name": "#%% md\n"
    }
   },
   "source": [
    "To use QPTUNA from Jupyter Notebook, install it with:\n",
    "```\n",
    "poetry build\n",
    "python -m pip install dist/qptuna-2.4.2.tar.gz\n",
    "```"
   ]
  },
  {
   "cell_type": "markdown",
   "metadata": {},
   "source": [
    "## Regression example\n",
    "This is a toy example of training a model that will predict molecular weight for a subset of DRD2 molecules. This example was chosen so that the whole run would take less than a minute.\n",
    "\n",
    "Training dataset is a CSV file. It has SMILES strings in a column named \"canonical\". It has the value that we will try to predict in column \"molwt\".\n",
    "\n",
    "This example has train and test (holdout) dataset ready. If you have single dataset and would like QPTUNA to split it into train and test (holdout) datasets, see the next section."
   ]
  },
  {
   "cell_type": "markdown",
   "metadata": {},
   "source": [
    "Here are a few lines from the input file:"
   ]
  },
  {
   "cell_type": "code",
   "execution_count": 1,
   "metadata": {},
   "outputs": [
    {
     "name": "stdout",
     "output_type": "stream",
     "text": [
      "canonical,activity,molwt,molwt_gt_330\r\n",
      "Cc1cc(NC(=O)c2cccc(COc3ccc(Br)cc3)c2)no1,0,387.233,True\r\n",
      "O=C(Nc1ccc(F)cc1F)Nc1sccc1-c1nc2ccccc2s1,0,387.4360000000001,True\r\n",
      "COC(=O)c1ccccc1NC(=O)c1cc([N+](=O)[O-])nn1Cc1ccccc1,0,380.36000000000007,True\r\n",
      "CCOC(=O)C(C)Sc1nc(-c2ccccc2)ccc1C#N,0,312.39400000000006,False\r\n",
      "CCC(CC)NC(=O)c1nn(Cc2ccccc2)c(=O)c2ccccc12,0,349.4340000000001,True\r\n",
      "Brc1ccccc1OCCCOc1cccc2cccnc12,0,358.235,True\r\n",
      "CCCCn1c(COc2cccc(OC)c2)nc2ccccc21,0,310.39700000000005,False\r\n",
      "CCOc1cccc(NC(=O)c2sc3nc(-c4ccc(F)cc4)ccc3c2N)c1,0,407.4700000000001,True\r\n",
      "COc1ccc(S(=O)(=O)N(CC(=O)Nc2ccc(C)cc2)c2ccc(C)cc2)cc1OC,0,454.54800000000023,True\r\n"
     ]
    }
   ],
   "source": [
    "!head  ../tests/data/DRD2/subset-50/train.csv"
   ]
  },
  {
   "cell_type": "markdown",
   "metadata": {},
   "source": [
    "### Create configuration"
   ]
  },
  {
   "cell_type": "markdown",
   "metadata": {},
   "source": [
    "QPTUNA configuration can be read from a JSON file or created in Python. Here we create it in Python."
   ]
  },
  {
   "cell_type": "code",
   "execution_count": 3,
   "metadata": {},
   "outputs": [],
   "source": [
    "import sys\n",
    "sys.path.append(\"..\")"
   ]
  },
  {
   "cell_type": "code",
   "execution_count": 4,
   "metadata": {},
   "outputs": [],
   "source": [
    "# Start with the imports.\n",
    "from optunaz.three_step_opt_build_merge import (\n",
    "    optimize,\n",
    "    buildconfig_best,\n",
    "    build_best,\n",
    "    build_merged,\n",
    ")\n",
    "from optunaz.config import ModelMode, OptimizationDirection\n",
    "from optunaz.config.optconfig import (\n",
    "    OptimizationConfig,\n",
    "    SVR,\n",
    "    RandomForestRegressor,\n",
    "    Ridge,\n",
    "    Lasso,\n",
    "    PLSRegression,\n",
    "    XGBRegressor,\n",
    ")\n",
    "from optunaz.datareader import Dataset\n",
    "from optunaz.descriptors import ECFP, MACCS_keys, ECFP_counts"
   ]
  },
  {
   "cell_type": "code",
   "execution_count": 5,
   "metadata": {},
   "outputs": [],
   "source": [
    "# Prepare hyperparameter optimization configuration.\n",
    "config = OptimizationConfig(\n",
    "    data=Dataset(\n",
    "        input_column=\"canonical\",  # Typical names are \"SMILES\" and \"smiles\".\n",
    "        response_column=\"molwt\",  # Often a specific name (like here), or just \"activity\".\n",
    "        training_dataset_file=\"../tests/data/DRD2/subset-50/train.csv\",\n",
    "        test_dataset_file=\"../tests/data/DRD2/subset-50/test.csv\"  # Hidden during optimization.\n",
    "    ),\n",
    "    descriptors=[\n",
    "        ECFP.new(),\n",
    "        ECFP_counts.new(),\n",
    "        MACCS_keys.new(),\n",
    "    ],\n",
    "    algorithms=[\n",
    "        SVR.new(),\n",
    "        RandomForestRegressor.new(n_estimators={\"low\": 5, \"high\": 10}),\n",
    "        Ridge.new(),\n",
    "        Lasso.new(),\n",
    "        PLSRegression.new(),\n",
    "        XGBRegressor.new(),\n",
    "        # PhyschemDescriptors.new(),\n",
    "    ],\n",
    "    settings=OptimizationConfig.Settings(\n",
    "        mode=ModelMode.REGRESSION,\n",
    "        cross_validation=3,\n",
    "        n_trials=100,  # Total number of trials.\n",
    "        n_startup_trials=50,  # Number of startup (\"random\") trials.\n",
    "        direction=OptimizationDirection.MAXIMIZATION,\n",
    "    ),\n",
    ") "
   ]
  },
  {
   "cell_type": "markdown",
   "metadata": {},
   "source": [
    "### Run optimization"
   ]
  },
  {
   "cell_type": "code",
   "execution_count": 6,
   "metadata": {},
   "outputs": [],
   "source": [
    "# Setup basic logging.\n",
    "import logging\n",
    "from importlib import reload\n",
    "reload(logging)\n",
    "logging.basicConfig(level=logging.INFO)"
   ]
  },
  {
   "cell_type": "code",
   "execution_count": 7,
   "metadata": {},
   "outputs": [
    {
     "name": "stderr",
     "output_type": "stream",
     "text": [
      "\u001B[32m[I 2021-11-03 15:27:23,002]\u001B[0m A new study created in memory with name: my_study\u001B[0m\n",
      "\u001B[32m[I 2021-11-03 15:27:24,256]\u001B[0m Trial 0 finished with value: -0.02044806175686738 and parameters: {'algorithm_name': 'Ridge', 'alpha': 1.8048825129012993, 'descriptor': '{\"name\": \"ECFP\", \"parameters\": {\"radius\": 3, \"nBits\": 2048}}'}. Best is trial 0 with value: -0.02044806175686738.\u001B[0m\n",
      "\u001B[32m[I 2021-11-03 15:27:25,509]\u001B[0m Trial 1 finished with value: 0.9079273253729204 and parameters: {'algorithm_name': 'Lasso', 'alpha': 1.3054683276243648, 'descriptor': '{\"name\": \"ECFP_counts\", \"parameters\": {\"radius\": 3, \"useFeatures\": true, \"nBits\": 2048}}'}. Best is trial 1 with value: 0.9079273253729204.\u001B[0m\n",
      "\u001B[32m[I 2021-11-03 15:27:26,188]\u001B[0m Trial 2 finished with value: -0.08624603482524736 and parameters: {'algorithm_name': 'PLSRegression', 'n_components': 2, 'descriptor': '{\"name\": \"ECFP\", \"parameters\": {\"radius\": 3, \"nBits\": 2048}}'}. Best is trial 1 with value: 0.9079273253729204.\u001B[0m\n",
      "\u001B[32m[I 2021-11-03 15:27:26,904]\u001B[0m Trial 3 finished with value: 0.02335758391625083 and parameters: {'algorithm_name': 'Lasso', 'alpha': 0.24006211733830551, 'descriptor': '{\"name\": \"MACCS_keys\", \"parameters\": {}}'}. Best is trial 1 with value: 0.9079273253729204.\u001B[0m\n",
      "\u001B[32m[I 2021-11-03 15:27:27,148]\u001B[0m Trial 4 finished with value: 0.14814221990579432 and parameters: {'algorithm_name': 'PLSRegression', 'n_components': 5, 'descriptor': '{\"name\": \"MACCS_keys\", \"parameters\": {}}'}. Best is trial 1 with value: 0.9079273253729204.\u001B[0m\n",
      "\u001B[32m[I 2021-11-03 15:27:27,832]\u001B[0m Trial 5 finished with value: 0.8065947996533662 and parameters: {'algorithm_name': 'Ridge', 'alpha': 1.9805062992102365, 'descriptor': '{\"name\": \"ECFP_counts\", \"parameters\": {\"radius\": 3, \"useFeatures\": true, \"nBits\": 2048}}'}. Best is trial 1 with value: 0.9079273253729204.\u001B[0m\n",
      "\u001B[32m[I 2021-11-03 15:27:28,481]\u001B[0m Trial 6 finished with value: 0.33765163361708117 and parameters: {'algorithm_name': 'PLSRegression', 'n_components': 3, 'descriptor': '{\"name\": \"MACCS_keys\", \"parameters\": {}}'}. Best is trial 1 with value: 0.9079273253729204.\u001B[0m\n",
      "\u001B[32m[I 2021-11-03 15:27:29,612]\u001B[0m Trial 7 finished with value: -0.8410906248381478 and parameters: {'algorithm_name': 'XGBRegressor', 'max_depth': 23, 'n_estimators': 146, 'learning_rate': 0.1, 'descriptor': '{\"name\": \"ECFP\", \"parameters\": {\"radius\": 3, \"nBits\": 2048}}'}. Best is trial 1 with value: 0.9079273253729204.\u001B[0m\n",
      "\u001B[32m[I 2021-11-03 15:27:30,314]\u001B[0m Trial 8 finished with value: 0.1941750495264719 and parameters: {'algorithm_name': 'RandomForestRegressor', 'max_depth': 16, 'n_estimators': 6, 'max_features': <RandomForestMaxFeatures.AUTO: 'auto'>, 'descriptor': '{\"name\": \"ECFP_counts\", \"parameters\": {\"radius\": 3, \"useFeatures\": true, \"nBits\": 2048}}'}. Best is trial 1 with value: 0.9079273253729204.\u001B[0m\n",
      "\u001B[32m[I 2021-11-03 15:27:31,116]\u001B[0m Trial 9 finished with value: 0.16809065385243585 and parameters: {'algorithm_name': 'XGBRegressor', 'max_depth': 32, 'n_estimators': 91, 'learning_rate': 0.1, 'descriptor': '{\"name\": \"ECFP_counts\", \"parameters\": {\"radius\": 3, \"useFeatures\": true, \"nBits\": 2048}}'}. Best is trial 1 with value: 0.9079273253729204.\u001B[0m\n",
      "\u001B[32m[I 2021-11-03 15:27:31,717]\u001B[0m Trial 10 finished with value: 0.18127755484393723 and parameters: {'algorithm_name': 'XGBRegressor', 'max_depth': 10, 'n_estimators': 50, 'learning_rate': 0.1, 'descriptor': '{\"name\": \"ECFP_counts\", \"parameters\": {\"radius\": 3, \"useFeatures\": true, \"nBits\": 2048}}'}. Best is trial 1 with value: 0.9079273253729204.\u001B[0m\n",
      "\u001B[32m[I 2021-11-03 15:27:31,971]\u001B[0m Trial 11 finished with value: 0.06408197393182798 and parameters: {'algorithm_name': 'Lasso', 'alpha': 0.397075703127552, 'descriptor': '{\"name\": \"MACCS_keys\", \"parameters\": {}}'}. Best is trial 1 with value: 0.9079273253729204.\u001B[0m\n",
      "\u001B[32m[I 2021-11-03 15:27:32,230]\u001B[0m Trial 12 finished with value: 0.33765163361708117 and parameters: {'algorithm_name': 'PLSRegression', 'n_components': 3, 'descriptor': '{\"name\": \"MACCS_keys\", \"parameters\": {}}'}. Best is trial 1 with value: 0.9079273253729204.\u001B[0m\n",
      "\u001B[32m[I 2021-11-03 15:27:32,936]\u001B[0m Trial 13 finished with value: 0.17552335748828277 and parameters: {'algorithm_name': 'XGBRegressor', 'max_depth': 32, 'n_estimators': 58, 'learning_rate': 0.1, 'descriptor': '{\"name\": \"ECFP_counts\", \"parameters\": {\"radius\": 3, \"useFeatures\": true, \"nBits\": 2048}}'}. Best is trial 1 with value: 0.9079273253729204.\u001B[0m\n",
      "\u001B[32m[I 2021-11-03 15:27:33,179]\u001B[0m Trial 14 finished with value: 0.14198989285231722 and parameters: {'algorithm_name': 'Ridge', 'alpha': 0.40281024194591963, 'descriptor': '{\"name\": \"MACCS_keys\", \"parameters\": {}}'}. Best is trial 1 with value: 0.9079273253729204.\u001B[0m\n",
      "\u001B[32m[I 2021-11-03 15:27:33,405]\u001B[0m Trial 15 finished with value: -0.4470142556460665 and parameters: {'algorithm_name': 'SVR', 'gamma': 0.6851992897315111, 'C': 0.4415250414210972, 'descriptor': '{\"name\": \"MACCS_keys\", \"parameters\": {}}'}. Best is trial 1 with value: 0.9079273253729204.\u001B[0m\n",
      "\u001B[32m[I 2021-11-03 15:27:33,600]\u001B[0m Trial 16 finished with value: -0.02070552171306439 and parameters: {'algorithm_name': 'Ridge', 'alpha': 1.93334624781603, 'descriptor': '{\"name\": \"ECFP\", \"parameters\": {\"radius\": 3, \"nBits\": 2048}}'}. Best is trial 1 with value: 0.9079273253729204.\u001B[0m\n",
      "\u001B[32m[I 2021-11-03 15:27:35,428]\u001B[0m Trial 17 finished with value: -0.8410959930602987 and parameters: {'algorithm_name': 'XGBRegressor', 'max_depth': 28, 'n_estimators': 215, 'learning_rate': 0.1, 'descriptor': '{\"name\": \"ECFP\", \"parameters\": {\"radius\": 3, \"nBits\": 2048}}'}. Best is trial 1 with value: 0.9079273253729204.\u001B[0m\n",
      "\u001B[32m[I 2021-11-03 15:27:35,668]\u001B[0m Trial 18 finished with value: 0.22458142636146483 and parameters: {'algorithm_name': 'Lasso', 'alpha': 0.9912425542780223, 'descriptor': '{\"name\": \"MACCS_keys\", \"parameters\": {}}'}. Best is trial 1 with value: 0.9079273253729204.\u001B[0m\n",
      "\u001B[32m[I 2021-11-03 15:27:35,904]\u001B[0m Trial 19 finished with value: 0.1627379839876295 and parameters: {'algorithm_name': 'Ridge', 'alpha': 0.5768337190521993, 'descriptor': '{\"name\": \"MACCS_keys\", \"parameters\": {}}'}. Best is trial 1 with value: 0.9079273253729204.\u001B[0m\n",
      "\u001B[32m[I 2021-11-03 15:27:36,105]\u001B[0m Trial 20 finished with value: -0.4484651044362531 and parameters: {'algorithm_name': 'SVR', 'gamma': 0.0541851993512434, 'C': 0.00022510431680195712, 'descriptor': '{\"name\": \"ECFP\", \"parameters\": {\"radius\": 3, \"nBits\": 2048}}'}. Best is trial 1 with value: 0.9079273253729204.\u001B[0m\n",
      "\u001B[32m[I 2021-11-03 15:27:36,331]\u001B[0m Trial 21 finished with value: -0.44846212133512103 and parameters: {'algorithm_name': 'SVR', 'gamma': 0.0032240583171509103, 'C': 0.0010182626086114644, 'descriptor': '{\"name\": \"MACCS_keys\", \"parameters\": {}}'}. Best is trial 1 with value: 0.9079273253729204.\u001B[0m\n",
      "\u001B[32m[I 2021-11-03 15:27:36,563]\u001B[0m Trial 22 finished with value: -0.4480687183680627 and parameters: {'algorithm_name': 'SVR', 'gamma': 0.07033615129525826, 'C': 0.10860925432279885, 'descriptor': '{\"name\": \"ECFP\", \"parameters\": {\"radius\": 3, \"nBits\": 2048}}'}. Best is trial 1 with value: 0.9079273253729204.\u001B[0m\n",
      "\u001B[32m[I 2021-11-03 15:27:36,784]\u001B[0m Trial 23 finished with value: 0.9125014871557132 and parameters: {'algorithm_name': 'Lasso', 'alpha': 0.22601356455361654, 'descriptor': '{\"name\": \"ECFP_counts\", \"parameters\": {\"radius\": 3, \"useFeatures\": true, \"nBits\": 2048}}'}. Best is trial 23 with value: 0.9125014871557132.\u001B[0m\n",
      "\u001B[32m[I 2021-11-03 15:27:37,019]\u001B[0m Trial 24 finished with value: 0.14814221990579432 and parameters: {'algorithm_name': 'PLSRegression', 'n_components': 5, 'descriptor': '{\"name\": \"MACCS_keys\", \"parameters\": {}}'}. Best is trial 23 with value: 0.9125014871557132.\u001B[0m\n",
      "\u001B[32m[I 2021-11-03 15:27:37,598]\u001B[0m Trial 25 finished with value: 0.16811560067620301 and parameters: {'algorithm_name': 'XGBRegressor', 'max_depth': 32, 'n_estimators': 90, 'learning_rate': 0.1, 'descriptor': '{\"name\": \"ECFP_counts\", \"parameters\": {\"radius\": 3, \"useFeatures\": true, \"nBits\": 2048}}'}. Best is trial 23 with value: 0.9125014871557132.\u001B[0m\n",
      "\u001B[32m[I 2021-11-03 15:27:38,577]\u001B[0m Trial 26 finished with value: 0.16774199664230513 and parameters: {'algorithm_name': 'XGBRegressor', 'max_depth': 31, 'n_estimators': 154, 'learning_rate': 0.1, 'descriptor': '{\"name\": \"ECFP_counts\", \"parameters\": {\"radius\": 3, \"useFeatures\": true, \"nBits\": 2048}}'}. Best is trial 23 with value: 0.9125014871557132.\u001B[0m\n"
     ]
    },
    {
     "name": "stderr",
     "output_type": "stream",
     "text": [
      "\u001B[32m[I 2021-11-03 15:27:38,816]\u001B[0m Trial 27 finished with value: -0.5210473145762867 and parameters: {'algorithm_name': 'RandomForestRegressor', 'max_depth': 16, 'n_estimators': 6, 'max_features': <RandomForestMaxFeatures.AUTO: 'auto'>, 'descriptor': '{\"name\": \"ECFP\", \"parameters\": {\"radius\": 3, \"nBits\": 2048}}'}. Best is trial 23 with value: 0.9125014871557132.\u001B[0m\n",
      "\u001B[32m[I 2021-11-03 15:27:39,011]\u001B[0m Trial 28 finished with value: 0.8075332716546475 and parameters: {'algorithm_name': 'Ridge', 'alpha': 1.4978507147916165, 'descriptor': '{\"name\": \"ECFP_counts\", \"parameters\": {\"radius\": 3, \"useFeatures\": true, \"nBits\": 2048}}'}. Best is trial 23 with value: 0.9125014871557132.\u001B[0m\n",
      "\u001B[32m[I 2021-11-03 15:27:39,240]\u001B[0m Trial 29 finished with value: 0.2034737231588942 and parameters: {'algorithm_name': 'Ridge', 'alpha': 1.0204272325138264, 'descriptor': '{\"name\": \"MACCS_keys\", \"parameters\": {}}'}. Best is trial 23 with value: 0.9125014871557132.\u001B[0m\n",
      "\u001B[32m[I 2021-11-03 15:27:40,149]\u001B[0m Trial 30 finished with value: 0.16774199664230513 and parameters: {'algorithm_name': 'XGBRegressor', 'max_depth': 9, 'n_estimators': 154, 'learning_rate': 0.1, 'descriptor': '{\"name\": \"ECFP_counts\", \"parameters\": {\"radius\": 3, \"useFeatures\": true, \"nBits\": 2048}}'}. Best is trial 23 with value: 0.9125014871557132.\u001B[0m\n",
      "\u001B[32m[I 2021-11-03 15:27:40,408]\u001B[0m Trial 31 finished with value: 0.20248300553646792 and parameters: {'algorithm_name': 'XGBRegressor', 'max_depth': 6, 'n_estimators': 81, 'learning_rate': 0.1, 'descriptor': '{\"name\": \"MACCS_keys\", \"parameters\": {}}'}. Best is trial 23 with value: 0.9125014871557132.\u001B[0m\n",
      "\u001B[32m[I 2021-11-03 15:27:40,645]\u001B[0m Trial 32 finished with value: -0.4484191191677589 and parameters: {'algorithm_name': 'SVR', 'gamma': 0.00016468639905970313, 'C': 0.008028526492947724, 'descriptor': '{\"name\": \"ECFP_counts\", \"parameters\": {\"radius\": 3, \"useFeatures\": true, \"nBits\": 2048}}'}. Best is trial 23 with value: 0.9125014871557132.\u001B[0m\n",
      "\u001B[32m[I 2021-11-03 15:27:40,879]\u001B[0m Trial 33 finished with value: -0.4484659676943532 and parameters: {'algorithm_name': 'SVR', 'gamma': 27.16384932337714, 'C': 4.040491831514058e-05, 'descriptor': '{\"name\": \"ECFP_counts\", \"parameters\": {\"radius\": 3, \"useFeatures\": true, \"nBits\": 2048}}'}. Best is trial 23 with value: 0.9125014871557132.\u001B[0m\n",
      "\u001B[32m[I 2021-11-03 15:27:41,340]\u001B[0m Trial 34 finished with value: 0.17164092209974105 and parameters: {'algorithm_name': 'XGBRegressor', 'max_depth': 27, 'n_estimators': 65, 'learning_rate': 0.1, 'descriptor': '{\"name\": \"ECFP_counts\", \"parameters\": {\"radius\": 3, \"useFeatures\": true, \"nBits\": 2048}}'}. Best is trial 23 with value: 0.9125014871557132.\u001B[0m\n",
      "\u001B[32m[I 2021-11-03 15:27:41,529]\u001B[0m Trial 35 finished with value: 0.8072743299068392 and parameters: {'algorithm_name': 'Ridge', 'alpha': 1.6303540758661923, 'descriptor': '{\"name\": \"ECFP_counts\", \"parameters\": {\"radius\": 3, \"useFeatures\": true, \"nBits\": 2048}}'}. Best is trial 23 with value: 0.9125014871557132.\u001B[0m\n",
      "\u001B[32m[I 2021-11-03 15:27:41,745]\u001B[0m Trial 36 finished with value: 0.3203341358790936 and parameters: {'algorithm_name': 'Lasso', 'alpha': 1.711757248518902, 'descriptor': '{\"name\": \"MACCS_keys\", \"parameters\": {}}'}. Best is trial 23 with value: 0.9125014871557132.\u001B[0m\n",
      "\u001B[32m[I 2021-11-03 15:27:42,202]\u001B[0m Trial 37 finished with value: 0.17334239886292535 and parameters: {'algorithm_name': 'XGBRegressor', 'max_depth': 26, 'n_estimators': 62, 'learning_rate': 0.1, 'descriptor': '{\"name\": \"ECFP_counts\", \"parameters\": {\"radius\": 3, \"useFeatures\": true, \"nBits\": 2048}}'}. Best is trial 23 with value: 0.9125014871557132.\u001B[0m\n",
      "\u001B[32m[I 2021-11-03 15:27:42,431]\u001B[0m Trial 38 finished with value: -0.44846578424940153 and parameters: {'algorithm_name': 'SVR', 'gamma': 0.0007999846083244838, 'C': 0.0002883431932682181, 'descriptor': '{\"name\": \"MACCS_keys\", \"parameters\": {}}'}. Best is trial 23 with value: 0.9125014871557132.\u001B[0m\n",
      "\u001B[32m[I 2021-11-03 15:27:42,675]\u001B[0m Trial 39 finished with value: -0.39856497023204335 and parameters: {'algorithm_name': 'RandomForestRegressor', 'max_depth': 21, 'n_estimators': 8, 'max_features': <RandomForestMaxFeatures.AUTO: 'auto'>, 'descriptor': '{\"name\": \"ECFP\", \"parameters\": {\"radius\": 3, \"nBits\": 2048}}'}. Best is trial 23 with value: 0.9125014871557132.\u001B[0m\n",
      "\u001B[32m[I 2021-11-03 15:27:42,894]\u001B[0m Trial 40 finished with value: 0.2684920936272392 and parameters: {'algorithm_name': 'Lasso', 'alpha': 1.2972519977291868, 'descriptor': '{\"name\": \"MACCS_keys\", \"parameters\": {}}'}. Best is trial 23 with value: 0.9125014871557132.\u001B[0m\n",
      "\u001B[32m[I 2021-11-03 15:27:43,109]\u001B[0m Trial 41 finished with value: 0.21517811490897884 and parameters: {'algorithm_name': 'Lasso', 'alpha': 0.9145337556670634, 'descriptor': '{\"name\": \"MACCS_keys\", \"parameters\": {}}'}. Best is trial 23 with value: 0.9125014871557132.\u001B[0m\n",
      "\u001B[32m[I 2021-11-03 15:27:43,303]\u001B[0m Trial 42 finished with value: 0.09125083865823214 and parameters: {'algorithm_name': 'PLSRegression', 'n_components': 3, 'descriptor': '{\"name\": \"ECFP_counts\", \"parameters\": {\"radius\": 3, \"useFeatures\": true, \"nBits\": 2048}}'}. Best is trial 23 with value: 0.9125014871557132.\u001B[0m\n",
      "\u001B[32m[I 2021-11-03 15:27:43,514]\u001B[0m Trial 43 finished with value: 0.25495022137958273 and parameters: {'algorithm_name': 'Ridge', 'alpha': 1.9308960833174116, 'descriptor': '{\"name\": \"MACCS_keys\", \"parameters\": {}}'}. Best is trial 23 with value: 0.9125014871557132.\u001B[0m\n",
      "\u001B[32m[I 2021-11-03 15:27:43,709]\u001B[0m Trial 44 finished with value: 0.9124758864141714 and parameters: {'algorithm_name': 'Lasso', 'alpha': 0.37153791201307995, 'descriptor': '{\"name\": \"ECFP_counts\", \"parameters\": {\"radius\": 3, \"useFeatures\": true, \"nBits\": 2048}}'}. Best is trial 23 with value: 0.9125014871557132.\u001B[0m\n",
      "\u001B[32m[I 2021-11-03 15:27:44,494]\u001B[0m Trial 45 finished with value: 0.16777437521818406 and parameters: {'algorithm_name': 'XGBRegressor', 'max_depth': 15, 'n_estimators': 132, 'learning_rate': 0.1, 'descriptor': '{\"name\": \"ECFP_counts\", \"parameters\": {\"radius\": 3, \"useFeatures\": true, \"nBits\": 2048}}'}. Best is trial 23 with value: 0.9125014871557132.\u001B[0m\n",
      "\u001B[32m[I 2021-11-03 15:27:44,676]\u001B[0m Trial 46 finished with value: -0.31436819602594807 and parameters: {'algorithm_name': 'Lasso', 'alpha': 0.961294354468403, 'descriptor': '{\"name\": \"ECFP\", \"parameters\": {\"radius\": 3, \"nBits\": 2048}}'}. Best is trial 23 with value: 0.9125014871557132.\u001B[0m\n",
      "\u001B[32m[I 2021-11-03 15:27:44,887]\u001B[0m Trial 47 finished with value: -0.44842687155368915 and parameters: {'algorithm_name': 'SVR', 'gamma': 0.46550593323149164, 'C': 0.011902877756712728, 'descriptor': '{\"name\": \"ECFP_counts\", \"parameters\": {\"radius\": 3, \"useFeatures\": true, \"nBits\": 2048}}'}. Best is trial 23 with value: 0.9125014871557132.\u001B[0m\n",
      "\u001B[32m[I 2021-11-03 15:27:45,137]\u001B[0m Trial 48 finished with value: 0.16957239664245458 and parameters: {'algorithm_name': 'RandomForestRegressor', 'max_depth': 14, 'n_estimators': 9, 'max_features': <RandomForestMaxFeatures.AUTO: 'auto'>, 'descriptor': '{\"name\": \"MACCS_keys\", \"parameters\": {}}'}. Best is trial 23 with value: 0.9125014871557132.\u001B[0m\n",
      "\u001B[32m[I 2021-11-03 15:27:45,350]\u001B[0m Trial 49 finished with value: -0.49647307722908085 and parameters: {'algorithm_name': 'RandomForestRegressor', 'max_depth': 30, 'n_estimators': 6, 'max_features': <RandomForestMaxFeatures.AUTO: 'auto'>, 'descriptor': '{\"name\": \"ECFP\", \"parameters\": {\"radius\": 3, \"nBits\": 2048}}'}. Best is trial 23 with value: 0.9125014871557132.\u001B[0m\n",
      "\u001B[32m[I 2021-11-03 15:27:45,542]\u001B[0m Trial 50 finished with value: 0.9066348252580596 and parameters: {'algorithm_name': 'Lasso', 'alpha': 1.4054686855870753, 'descriptor': '{\"name\": \"ECFP_counts\", \"parameters\": {\"radius\": 3, \"useFeatures\": true, \"nBits\": 2048}}'}. Best is trial 23 with value: 0.9125014871557132.\u001B[0m\n",
      "\u001B[32m[I 2021-11-03 15:27:45,734]\u001B[0m Trial 51 finished with value: 0.9057086243078333 and parameters: {'algorithm_name': 'Lasso', 'alpha': 1.4666455171584527, 'descriptor': '{\"name\": \"ECFP_counts\", \"parameters\": {\"radius\": 3, \"useFeatures\": true, \"nBits\": 2048}}'}. Best is trial 23 with value: 0.9125014871557132.\u001B[0m\n",
      "\u001B[32m[I 2021-11-03 15:27:45,923]\u001B[0m Trial 52 finished with value: 0.9055264962107038 and parameters: {'algorithm_name': 'Lasso', 'alpha': 1.4778705968375494, 'descriptor': '{\"name\": \"ECFP_counts\", \"parameters\": {\"radius\": 3, \"useFeatures\": true, \"nBits\": 2048}}'}. Best is trial 23 with value: 0.9125014871557132.\u001B[0m\n"
     ]
    },
    {
     "name": "stderr",
     "output_type": "stream",
     "text": [
      "\u001B[32m[I 2021-11-03 15:27:46,119]\u001B[0m Trial 53 finished with value: 0.9072122009642288 and parameters: {'algorithm_name': 'Lasso', 'alpha': 1.363403504852521, 'descriptor': '{\"name\": \"ECFP_counts\", \"parameters\": {\"radius\": 3, \"useFeatures\": true, \"nBits\": 2048}}'}. Best is trial 23 with value: 0.9125014871557132.\u001B[0m\n",
      "\u001B[32m[I 2021-11-03 15:27:46,307]\u001B[0m Trial 54 finished with value: 0.9080010205463492 and parameters: {'algorithm_name': 'Lasso', 'alpha': 1.2980337372814177, 'descriptor': '{\"name\": \"ECFP_counts\", \"parameters\": {\"radius\": 3, \"useFeatures\": true, \"nBits\": 2048}}'}. Best is trial 23 with value: 0.9125014871557132.\u001B[0m\n",
      "\u001B[32m[I 2021-11-03 15:27:46,501]\u001B[0m Trial 55 finished with value: 0.9085040243575623 and parameters: {'algorithm_name': 'Lasso', 'alpha': 1.2438422779548077, 'descriptor': '{\"name\": \"ECFP_counts\", \"parameters\": {\"radius\": 3, \"useFeatures\": true, \"nBits\": 2048}}'}. Best is trial 23 with value: 0.9125014871557132.\u001B[0m\n",
      "\u001B[32m[I 2021-11-03 15:27:46,717]\u001B[0m Trial 56 finished with value: 0.9103640412111674 and parameters: {'algorithm_name': 'Lasso', 'alpha': 0.022945824081735816, 'descriptor': '{\"name\": \"ECFP_counts\", \"parameters\": {\"radius\": 3, \"useFeatures\": true, \"nBits\": 2048}}'}. Best is trial 23 with value: 0.9125014871557132.\u001B[0m\n",
      "\u001B[32m[I 2021-11-03 15:27:46,939]\u001B[0m Trial 57 finished with value: 0.905845776039021 and parameters: {'algorithm_name': 'Lasso', 'alpha': 0.015133941796937889, 'descriptor': '{\"name\": \"ECFP_counts\", \"parameters\": {\"radius\": 3, \"useFeatures\": true, \"nBits\": 2048}}'}. Best is trial 23 with value: 0.9125014871557132.\u001B[0m\n",
      "\u001B[32m[I 2021-11-03 15:27:47,161]\u001B[0m Trial 58 finished with value: 0.9120648827811181 and parameters: {'algorithm_name': 'Lasso', 'alpha': 0.03146479316457468, 'descriptor': '{\"name\": \"ECFP_counts\", \"parameters\": {\"radius\": 3, \"useFeatures\": true, \"nBits\": 2048}}'}. Best is trial 23 with value: 0.9125014871557132.\u001B[0m\n",
      "\u001B[32m[I 2021-11-03 15:27:47,373]\u001B[0m Trial 59 finished with value: 0.9016444419994185 and parameters: {'algorithm_name': 'Lasso', 'alpha': 0.011170266489198956, 'descriptor': '{\"name\": \"ECFP_counts\", \"parameters\": {\"radius\": 3, \"useFeatures\": true, \"nBits\": 2048}}'}. Best is trial 23 with value: 0.9125014871557132.\u001B[0m\n",
      "\u001B[32m[I 2021-11-03 15:27:47,580]\u001B[0m Trial 60 finished with value: 0.9123906335338886 and parameters: {'algorithm_name': 'Lasso', 'alpha': 0.1654928210839501, 'descriptor': '{\"name\": \"ECFP_counts\", \"parameters\": {\"radius\": 3, \"useFeatures\": true, \"nBits\": 2048}}'}. Best is trial 23 with value: 0.9125014871557132.\u001B[0m\n",
      "\u001B[32m[I 2021-11-03 15:27:47,786]\u001B[0m Trial 61 finished with value: 0.9123945501745716 and parameters: {'algorithm_name': 'Lasso', 'alpha': 0.17517727787047613, 'descriptor': '{\"name\": \"ECFP_counts\", \"parameters\": {\"radius\": 3, \"useFeatures\": true, \"nBits\": 2048}}'}. Best is trial 23 with value: 0.9125014871557132.\u001B[0m\n",
      "\u001B[32m[I 2021-11-03 15:27:48,003]\u001B[0m Trial 62 finished with value: 0.9124367775183293 and parameters: {'algorithm_name': 'Lasso', 'alpha': 0.1859403645422698, 'descriptor': '{\"name\": \"ECFP_counts\", \"parameters\": {\"radius\": 3, \"useFeatures\": true, \"nBits\": 2048}}'}. Best is trial 23 with value: 0.9125014871557132.\u001B[0m\n",
      "\u001B[32m[I 2021-11-03 15:27:48,215]\u001B[0m Trial 63 finished with value: 0.9124178624308033 and parameters: {'algorithm_name': 'Lasso', 'alpha': 0.2019538613190746, 'descriptor': '{\"name\": \"ECFP_counts\", \"parameters\": {\"radius\": 3, \"useFeatures\": true, \"nBits\": 2048}}'}. Best is trial 23 with value: 0.9125014871557132.\u001B[0m\n",
      "\u001B[32m[I 2021-11-03 15:27:48,418]\u001B[0m Trial 64 finished with value: 0.912425895671161 and parameters: {'algorithm_name': 'Lasso', 'alpha': 0.21908463775525464, 'descriptor': '{\"name\": \"ECFP_counts\", \"parameters\": {\"radius\": 3, \"useFeatures\": true, \"nBits\": 2048}}'}. Best is trial 23 with value: 0.9125014871557132.\u001B[0m\n",
      "\u001B[32m[I 2021-11-03 15:27:48,615]\u001B[0m Trial 65 finished with value: 0.912425626933079 and parameters: {'algorithm_name': 'Lasso', 'alpha': 0.21934944870706918, 'descriptor': '{\"name\": \"ECFP_counts\", \"parameters\": {\"radius\": 3, \"useFeatures\": true, \"nBits\": 2048}}'}. Best is trial 23 with value: 0.9125014871557132.\u001B[0m\n",
      "\u001B[32m[I 2021-11-03 15:27:48,807]\u001B[0m Trial 66 finished with value: 0.9126862765531992 and parameters: {'algorithm_name': 'Lasso', 'alpha': 0.2674316221680709, 'descriptor': '{\"name\": \"ECFP_counts\", \"parameters\": {\"radius\": 3, \"useFeatures\": true, \"nBits\": 2048}}'}. Best is trial 66 with value: 0.9126862765531992.\u001B[0m\n",
      "\u001B[32m[I 2021-11-03 15:27:49,010]\u001B[0m Trial 67 finished with value: 0.9124222451841941 and parameters: {'algorithm_name': 'Lasso', 'alpha': 0.37490304241067673, 'descriptor': '{\"name\": \"ECFP_counts\", \"parameters\": {\"radius\": 3, \"useFeatures\": true, \"nBits\": 2048}}'}. Best is trial 66 with value: 0.9126862765531992.\u001B[0m\n",
      "\u001B[32m[I 2021-11-03 15:27:49,209]\u001B[0m Trial 68 finished with value: 0.9123243444777632 and parameters: {'algorithm_name': 'Lasso', 'alpha': 0.39069498607530045, 'descriptor': '{\"name\": \"ECFP_counts\", \"parameters\": {\"radius\": 3, \"useFeatures\": true, \"nBits\": 2048}}'}. Best is trial 66 with value: 0.9126862765531992.\u001B[0m\n",
      "\u001B[32m[I 2021-11-03 15:27:49,407]\u001B[0m Trial 69 finished with value: 0.911211167937981 and parameters: {'algorithm_name': 'Lasso', 'alpha': 0.5741469293900908, 'descriptor': '{\"name\": \"ECFP_counts\", \"parameters\": {\"radius\": 3, \"useFeatures\": true, \"nBits\": 2048}}'}. Best is trial 66 with value: 0.9126862765531992.\u001B[0m\n",
      "\u001B[32m[I 2021-11-03 15:27:49,602]\u001B[0m Trial 70 finished with value: 0.9128933958899629 and parameters: {'algorithm_name': 'Lasso', 'alpha': 0.31897686989567947, 'descriptor': '{\"name\": \"ECFP_counts\", \"parameters\": {\"radius\": 3, \"useFeatures\": true, \"nBits\": 2048}}'}. Best is trial 70 with value: 0.9128933958899629.\u001B[0m\n",
      "\u001B[32m[I 2021-11-03 15:27:49,798]\u001B[0m Trial 71 finished with value: 0.912878876515423 and parameters: {'algorithm_name': 'Lasso', 'alpha': 0.3017125123347155, 'descriptor': '{\"name\": \"ECFP_counts\", \"parameters\": {\"radius\": 3, \"useFeatures\": true, \"nBits\": 2048}}'}. Best is trial 70 with value: 0.9128933958899629.\u001B[0m\n",
      "\u001B[32m[I 2021-11-03 15:27:50,000]\u001B[0m Trial 72 finished with value: 0.9128533357696114 and parameters: {'algorithm_name': 'Lasso', 'alpha': 0.29521142630938185, 'descriptor': '{\"name\": \"ECFP_counts\", \"parameters\": {\"radius\": 3, \"useFeatures\": true, \"nBits\": 2048}}'}. Best is trial 70 with value: 0.9128933958899629.\u001B[0m\n",
      "\u001B[32m[I 2021-11-03 15:27:50,237]\u001B[0m Trial 73 finished with value: 0.9128935337157517 and parameters: {'algorithm_name': 'Lasso', 'alpha': 0.30929646112756515, 'descriptor': '{\"name\": \"ECFP_counts\", \"parameters\": {\"radius\": 3, \"useFeatures\": true, \"nBits\": 2048}}'}. Best is trial 73 with value: 0.9128935337157517.\u001B[0m\n",
      "\u001B[32m[I 2021-11-03 15:27:50,445]\u001B[0m Trial 74 finished with value: 0.9125160609119455 and parameters: {'algorithm_name': 'Lasso', 'alpha': 0.49858891151364915, 'descriptor': '{\"name\": \"ECFP_counts\", \"parameters\": {\"radius\": 3, \"useFeatures\": true, \"nBits\": 2048}}'}. Best is trial 73 with value: 0.9128935337157517.\u001B[0m\n",
      "\u001B[32m[I 2021-11-03 15:27:50,633]\u001B[0m Trial 75 finished with value: 0.0927177745476609 and parameters: {'algorithm_name': 'PLSRegression', 'n_components': 4, 'descriptor': '{\"name\": \"ECFP_counts\", \"parameters\": {\"radius\": 3, \"useFeatures\": true, \"nBits\": 2048}}'}. Best is trial 73 with value: 0.9128935337157517.\u001B[0m\n",
      "\u001B[32m[I 2021-11-03 15:27:50,831]\u001B[0m Trial 76 finished with value: 0.912050644730617 and parameters: {'algorithm_name': 'Lasso', 'alpha': 0.5263110308484356, 'descriptor': '{\"name\": \"ECFP_counts\", \"parameters\": {\"radius\": 3, \"useFeatures\": true, \"nBits\": 2048}}'}. Best is trial 73 with value: 0.9128935337157517.\u001B[0m\n",
      "\u001B[32m[I 2021-11-03 15:27:51,031]\u001B[0m Trial 77 finished with value: 0.9128972841755637 and parameters: {'algorithm_name': 'Lasso', 'alpha': 0.32911754040594743, 'descriptor': '{\"name\": \"ECFP_counts\", \"parameters\": {\"radius\": 3, \"useFeatures\": true, \"nBits\": 2048}}'}. Best is trial 77 with value: 0.9128972841755637.\u001B[0m\n",
      "\u001B[32m[I 2021-11-03 15:27:51,267]\u001B[0m Trial 78 finished with value: 0.9126109859994421 and parameters: {'algorithm_name': 'Lasso', 'alpha': 0.4927689028677609, 'descriptor': '{\"name\": \"ECFP_counts\", \"parameters\": {\"radius\": 3, \"useFeatures\": true, \"nBits\": 2048}}'}. Best is trial 77 with value: 0.9128972841755637.\u001B[0m\n"
     ]
    },
    {
     "name": "stderr",
     "output_type": "stream",
     "text": [
      "\u001B[32m[I 2021-11-03 15:27:51,504]\u001B[0m Trial 79 finished with value: 0.9091851320743257 and parameters: {'algorithm_name': 'Lasso', 'alpha': 0.7092306751268378, 'descriptor': '{\"name\": \"ECFP_counts\", \"parameters\": {\"radius\": 3, \"useFeatures\": true, \"nBits\": 2048}}'}. Best is trial 77 with value: 0.9128972841755637.\u001B[0m\n",
      "\u001B[32m[I 2021-11-03 15:27:51,724]\u001B[0m Trial 80 finished with value: 0.9128961782931285 and parameters: {'algorithm_name': 'Lasso', 'alpha': 0.31348685376305047, 'descriptor': '{\"name\": \"ECFP_counts\", \"parameters\": {\"radius\": 3, \"useFeatures\": true, \"nBits\": 2048}}'}. Best is trial 77 with value: 0.9128972841755637.\u001B[0m\n",
      "\u001B[32m[I 2021-11-03 15:27:51,918]\u001B[0m Trial 81 finished with value: 0.9124846289536732 and parameters: {'algorithm_name': 'Lasso', 'alpha': 0.5004995288006024, 'descriptor': '{\"name\": \"ECFP_counts\", \"parameters\": {\"radius\": 3, \"useFeatures\": true, \"nBits\": 2048}}'}. Best is trial 77 with value: 0.9128972841755637.\u001B[0m\n",
      "\u001B[32m[I 2021-11-03 15:27:52,120]\u001B[0m Trial 82 finished with value: 0.9128753856650521 and parameters: {'algorithm_name': 'Lasso', 'alpha': 0.32767016179172465, 'descriptor': '{\"name\": \"ECFP_counts\", \"parameters\": {\"radius\": 3, \"useFeatures\": true, \"nBits\": 2048}}'}. Best is trial 77 with value: 0.9128972841755637.\u001B[0m\n",
      "\u001B[32m[I 2021-11-03 15:27:52,340]\u001B[0m Trial 83 finished with value: 0.9128907646158004 and parameters: {'algorithm_name': 'Lasso', 'alpha': 0.3071419800293351, 'descriptor': '{\"name\": \"ECFP_counts\", \"parameters\": {\"radius\": 3, \"useFeatures\": true, \"nBits\": 2048}}'}. Best is trial 77 with value: 0.9128972841755637.\u001B[0m\n",
      "\u001B[32m[I 2021-11-03 15:27:52,544]\u001B[0m Trial 84 finished with value: 0.9128935598829614 and parameters: {'algorithm_name': 'Lasso', 'alpha': 0.3088973872050498, 'descriptor': '{\"name\": \"ECFP_counts\", \"parameters\": {\"radius\": 3, \"useFeatures\": true, \"nBits\": 2048}}'}. Best is trial 77 with value: 0.9128972841755637.\u001B[0m\n",
      "\u001B[32m[I 2021-11-03 15:27:52,739]\u001B[0m Trial 85 finished with value: 0.9128389830160848 and parameters: {'algorithm_name': 'Lasso', 'alpha': 0.29314594268494587, 'descriptor': '{\"name\": \"ECFP_counts\", \"parameters\": {\"radius\": 3, \"useFeatures\": true, \"nBits\": 2048}}'}. Best is trial 77 with value: 0.9128972841755637.\u001B[0m\n",
      "\u001B[32m[I 2021-11-03 15:27:52,932]\u001B[0m Trial 86 finished with value: 0.09611003504767683 and parameters: {'algorithm_name': 'PLSRegression', 'n_components': 2, 'descriptor': '{\"name\": \"ECFP_counts\", \"parameters\": {\"radius\": 3, \"useFeatures\": true, \"nBits\": 2048}}'}. Best is trial 77 with value: 0.9128972841755637.\u001B[0m\n",
      "\u001B[32m[I 2021-11-03 15:27:53,138]\u001B[0m Trial 87 finished with value: 0.9128923973693349 and parameters: {'algorithm_name': 'Lasso', 'alpha': 0.3198466059895063, 'descriptor': '{\"name\": \"ECFP_counts\", \"parameters\": {\"radius\": 3, \"useFeatures\": true, \"nBits\": 2048}}'}. Best is trial 77 with value: 0.9128972841755637.\u001B[0m\n",
      "\u001B[32m[I 2021-11-03 15:27:53,337]\u001B[0m Trial 88 finished with value: 0.9095452170492339 and parameters: {'algorithm_name': 'Lasso', 'alpha': 0.6595245361247516, 'descriptor': '{\"name\": \"ECFP_counts\", \"parameters\": {\"radius\": 3, \"useFeatures\": true, \"nBits\": 2048}}'}. Best is trial 77 with value: 0.9128972841755637.\u001B[0m\n",
      "\u001B[32m[I 2021-11-03 15:27:53,550]\u001B[0m Trial 89 finished with value: 0.9130573151096089 and parameters: {'algorithm_name': 'Lasso', 'alpha': 0.11945434951682676, 'descriptor': '{\"name\": \"ECFP_counts\", \"parameters\": {\"radius\": 3, \"useFeatures\": true, \"nBits\": 2048}}'}. Best is trial 89 with value: 0.9130573151096089.\u001B[0m\n",
      "\u001B[32m[I 2021-11-03 15:27:53,767]\u001B[0m Trial 90 finished with value: 0.9129949889889871 and parameters: {'algorithm_name': 'Lasso', 'alpha': 0.08484502684569847, 'descriptor': '{\"name\": \"ECFP_counts\", \"parameters\": {\"radius\": 3, \"useFeatures\": true, \"nBits\": 2048}}'}. Best is trial 89 with value: 0.9130573151096089.\u001B[0m\n",
      "\u001B[32m[I 2021-11-03 15:27:53,985]\u001B[0m Trial 91 finished with value: 0.9131011839501829 and parameters: {'algorithm_name': 'Lasso', 'alpha': 0.11179362980507357, 'descriptor': '{\"name\": \"ECFP_counts\", \"parameters\": {\"radius\": 3, \"useFeatures\": true, \"nBits\": 2048}}'}. Best is trial 91 with value: 0.9131011839501829.\u001B[0m\n",
      "\u001B[32m[I 2021-11-03 15:27:54,207]\u001B[0m Trial 92 finished with value: 0.9128903354310092 and parameters: {'algorithm_name': 'Lasso', 'alpha': 0.13037698119466737, 'descriptor': '{\"name\": \"ECFP_counts\", \"parameters\": {\"radius\": 3, \"useFeatures\": true, \"nBits\": 2048}}'}. Best is trial 91 with value: 0.9131011839501829.\u001B[0m\n",
      "\u001B[32m[I 2021-11-03 15:27:54,425]\u001B[0m Trial 93 finished with value: 0.9126604619222243 and parameters: {'algorithm_name': 'Lasso', 'alpha': 0.07616868539692813, 'descriptor': '{\"name\": \"ECFP_counts\", \"parameters\": {\"radius\": 3, \"useFeatures\": true, \"nBits\": 2048}}'}. Best is trial 91 with value: 0.9131011839501829.\u001B[0m\n",
      "\u001B[32m[I 2021-11-03 15:27:54,643]\u001B[0m Trial 94 finished with value: 0.14322158804134352 and parameters: {'algorithm_name': 'RandomForestRegressor', 'max_depth': 2, 'n_estimators': 8, 'max_features': <RandomForestMaxFeatures.AUTO: 'auto'>, 'descriptor': '{\"name\": \"ECFP_counts\", \"parameters\": {\"radius\": 3, \"useFeatures\": true, \"nBits\": 2048}}'}. Best is trial 91 with value: 0.9131011839501829.\u001B[0m\n",
      "\u001B[32m[I 2021-11-03 15:27:54,869]\u001B[0m Trial 95 finished with value: 0.9129671145959319 and parameters: {'algorithm_name': 'Lasso', 'alpha': 0.0968433857436134, 'descriptor': '{\"name\": \"ECFP_counts\", \"parameters\": {\"radius\": 3, \"useFeatures\": true, \"nBits\": 2048}}'}. Best is trial 91 with value: 0.9131011839501829.\u001B[0m\n",
      "\u001B[32m[I 2021-11-03 15:27:55,078]\u001B[0m Trial 96 finished with value: -0.43515639285327296 and parameters: {'algorithm_name': 'Lasso', 'alpha': 0.10852820996579998, 'descriptor': '{\"name\": \"ECFP\", \"parameters\": {\"radius\": 3, \"nBits\": 2048}}'}. Best is trial 91 with value: 0.9131011839501829.\u001B[0m\n",
      "\u001B[32m[I 2021-11-03 15:27:55,283]\u001B[0m Trial 97 finished with value: 0.9127978976292875 and parameters: {'algorithm_name': 'Lasso', 'alpha': 0.4424584621141266, 'descriptor': '{\"name\": \"ECFP_counts\", \"parameters\": {\"radius\": 3, \"useFeatures\": true, \"nBits\": 2048}}'}. Best is trial 91 with value: 0.9131011839501829.\u001B[0m\n",
      "\u001B[32m[I 2021-11-03 15:27:55,486]\u001B[0m Trial 98 finished with value: 0.8103361657179239 and parameters: {'algorithm_name': 'Ridge', 'alpha': 0.09596828903596344, 'descriptor': '{\"name\": \"ECFP_counts\", \"parameters\": {\"radius\": 3, \"useFeatures\": true, \"nBits\": 2048}}'}. Best is trial 91 with value: 0.9131011839501829.\u001B[0m\n",
      "\u001B[32m[I 2021-11-03 15:27:55,709]\u001B[0m Trial 99 finished with value: 0.912762853572555 and parameters: {'algorithm_name': 'Lasso', 'alpha': 0.43770950376832857, 'descriptor': '{\"name\": \"ECFP_counts\", \"parameters\": {\"radius\": 3, \"useFeatures\": true, \"nBits\": 2048}}'}. Best is trial 91 with value: 0.9131011839501829.\u001B[0m\n"
     ]
    }
   ],
   "source": [
    "# Run Optuna Study.\n",
    "study = optimize(config, study_name=\"my_study\")\n",
    "# Optuna will log it's progress to sys.stderr\n",
    "# (usually rendered in red in Jupyter Notebooks)."
   ]
  },
  {
   "cell_type": "markdown",
   "metadata": {},
   "source": [
    "### Visualize optimization progress"
   ]
  },
  {
   "cell_type": "code",
   "execution_count": 8,
   "metadata": {
    "scrolled": true
   },
   "outputs": [
    {
     "data": {
      "text/plain": [
       "[Text(0.5, 0, 'Trial number'), Text(0, 0.5, 'Ojbective value')]"
      ]
     },
     "execution_count": 8,
     "metadata": {},
     "output_type": "execute_result"
    },
    {
     "data": {
      "image/png": "[encoded data removed]",
      "text/plain": [
       "<Figure size 432x288 with 1 Axes>"
      ]
     },
     "metadata": {},
     "output_type": "display_data"
    }
   ],
   "source": [
    "import seaborn as sns\n",
    "sns.set_theme(style=\"darkgrid\")\n",
    "ax = sns.scatterplot(data=study.trials_dataframe(), x=\"number\", y=\"value\")\n",
    "ax.set(xlabel=\"Trial number\", ylabel=\"Ojbective value\")"
   ]
  },
  {
   "cell_type": "markdown",
   "metadata": {},
   "source": [
    "Sometimes it might be interesting to look at individual CV scores instead of aggregated score (mean CV score by default). Here we can plot all 3 cross validation scores (test_r2) for each trial."
   ]
  },
  {
   "cell_type": "code",
   "execution_count": 9,
   "metadata": {},
   "outputs": [
    {
     "data": {
      "text/plain": [
       "[Text(0.5, 0, 'Trial number'), Text(0, 0.5, 'Ojbective value')]"
      ]
     },
     "execution_count": 9,
     "metadata": {},
     "output_type": "execute_result"
    },
    {
     "data": {
      "image/png": "[encoded data removed]",
      "text/plain": [
       "<Figure size 432x288 with 1 Axes>"
      ]
     },
     "metadata": {},
     "output_type": "display_data"
    }
   ],
   "source": [
    "cv_test_r2 = study.trials_dataframe()[\"user_attrs_test_scores\"].map(lambda d: d[\"test_r2\"])\n",
    "x = []\n",
    "y = []\n",
    "for i, vs in cv_test_r2.items():\n",
    "    for v in vs:\n",
    "        x.append(i)\n",
    "        y.append(v)\n",
    "ax = sns.scatterplot(x=x, y=y)\n",
    "ax.set(xlabel=\"Trial number\", ylabel=\"Ojbective value\")"
   ]
  },
  {
   "cell_type": "markdown",
   "metadata": {},
   "source": [
    "### Pick the best trial and build a model for it"
   ]
  },
  {
   "cell_type": "markdown",
   "metadata": {},
   "source": [
    "We pick the best trial, inspect its configuration, build the best model, and save it as a pickled file."
   ]
  },
  {
   "cell_type": "code",
   "execution_count": 11,
   "metadata": {},
   "outputs": [],
   "source": [
    "# Get the best Trial from the Study and make a Build (Training) configuration for it.\n",
    "buildconfig = buildconfig_best(study)"
   ]
  },
  {
   "cell_type": "markdown",
   "metadata": {},
   "source": [
    "Optional: write out JSON of the best configuration."
   ]
  },
  {
   "cell_type": "code",
   "execution_count": 12,
   "metadata": {},
   "outputs": [
    {
     "name": "stdout",
     "output_type": "stream",
     "text": [
      "{\n",
      "  \"data\": {\n",
      "    \"training_dataset_file\": \"../tests/data/DRD2/subset-50/train.csv\",\n",
      "    \"input_column\": \"canonical\",\n",
      "    \"response_column\": \"molwt\",\n",
      "    \"test_dataset_file\": \"../tests/data/DRD2/subset-50/test.csv\",\n",
      "    \"deduplication_strategy\": {\n",
      "      \"name\": \"KeepAllNoDeduplication\"\n",
      "    },\n",
      "    \"split_strategy\": {\n",
      "      \"name\": \"NoSplitting\"\n",
      "    },\n",
      "    \"save_intermediate_files\": false,\n",
      "    \"intermediate_training_dataset_file\": null\n",
      "  },\n",
      "  \"metadata\": {\n",
      "    \"cross_validation\": 3,\n",
      "    \"shuffle\": false,\n",
      "    \"best_trial\": 91,\n",
      "    \"best_value\": 0.9131011839501829,\n",
      "    \"n_trials\": 100,\n",
      "    \"visualization\": null\n",
      "  },\n",
      "  \"descriptor\": {\n",
      "    \"name\": \"ECFP_counts\",\n",
      "    \"parameters\": {\n",
      "      \"radius\": 3,\n",
      "      \"useFeatures\": true,\n",
      "      \"nBits\": 2048\n",
      "    }\n",
      "  },\n",
      "  \"settings\": {\n",
      "    \"mode\": \"regression\",\n",
      "    \"direction\": \"maximize\",\n",
      "    \"n_trials\": 100\n",
      "  },\n",
      "  \"algorithm\": {\n",
      "    \"name\": \"Lasso\",\n",
      "    \"parameters\": {\n",
      "      \"alpha\": 0.11179362980507357\n",
      "    }\n",
      "  },\n",
      "  \"task\": \"building\"\n",
      "}\n"
     ]
    }
   ],
   "source": [
    "import apischema\n",
    "buildconfig_as_dict = apischema.serialize(buildconfig)\n",
    "\n",
    "import json\n",
    "print(json.dumps(buildconfig_as_dict, indent=2))"
   ]
  },
  {
   "cell_type": "markdown",
   "metadata": {},
   "source": [
    "Build (re-Train) and save the best model. This time training uses all training data, without splitting it into cross-validation folds."
   ]
  },
  {
   "cell_type": "code",
   "execution_count": 13,
   "metadata": {},
   "outputs": [],
   "source": [
    "buildconfig_best = build_best(buildconfig, \"../target/best.pkl\")"
   ]
  },
  {
   "cell_type": "markdown",
   "metadata": {},
   "source": [
    "We can use the best (or merged) model as following"
   ]
  },
  {
   "cell_type": "code",
   "execution_count": 14,
   "metadata": {},
   "outputs": [
    {
     "data": {
      "text/plain": [
       "array([ 53.13534027, 174.21252922])"
      ]
     },
     "execution_count": 14,
     "metadata": {},
     "output_type": "execute_result"
    }
   ],
   "source": [
    "import pickle\n",
    "with open(\"../target/best.pkl\", \"rb\") as f:\n",
    "    model = pickle.load(f)\n",
    "model.predict_from_smiles([\"CCC\", \"CC(=O)Nc1ccc(O)cc1\"])"
   ]
  },
  {
   "cell_type": "markdown",
   "metadata": {},
   "source": [
    "Now we can explore how good the best model performs on the test (holdout) set."
   ]
  },
  {
   "cell_type": "code",
   "execution_count": 15,
   "metadata": {},
   "outputs": [],
   "source": [
    "import pandas as pd\n",
    "\n",
    "df = pd.read_csv(config.data.test_dataset_file)  # Load test data.\n",
    "\n",
    "expected = df[config.data.response_column]\n",
    "predicted = model.predict_from_smiles(df[config.data.input_column])"
   ]
  },
  {
   "cell_type": "code",
   "execution_count": 16,
   "metadata": {},
   "outputs": [
    {
     "data": {
      "text/plain": [
       "Text(0, 0.5, 'Predicted molwt')"
      ]
     },
     "execution_count": 16,
     "metadata": {},
     "output_type": "execute_result"
    },
    {
     "data": {
      "image/png": "[encoded data removed]",
      "text/plain": [
       "<Figure size 432x288 with 1 Axes>"
      ]
     },
     "metadata": {},
     "output_type": "display_data"
    }
   ],
   "source": [
    "# Plot expected vs predicted values for the best model.\n",
    "import matplotlib.pyplot as plt\n",
    "ax = plt.scatter(expected, predicted)\n",
    "lims = [expected.min(), expected.max()]\n",
    "plt.plot(lims, lims)  # Diagonal line.\n",
    "plt.xlabel(f\"Expected {config.data.response_column}\")\n",
    "plt.ylabel(f\"Predicted {config.data.response_column}\")"
   ]
  },
  {
   "cell_type": "markdown",
   "metadata": {},
   "source": [
    "We can also calculate custom metrics for the best model:"
   ]
  },
  {
   "cell_type": "code",
   "execution_count": 17,
   "metadata": {},
   "outputs": [
    {
     "name": "stdout",
     "output_type": "stream",
     "text": [
      "R2: 0.8563204537702751, RMSE: 26.23368678231321, Mean absolute error: 19.33448263201076\n"
     ]
    }
   ],
   "source": [
    "from sklearn.metrics import (r2_score, mean_squared_error, mean_absolute_error)\n",
    "import numpy as np\n",
    "\n",
    "# R2\n",
    "r2 = r2_score(y_true=expected, y_pred=predicted)\n",
    "\n",
    "# RMSE. sklearn 0.24 added squared=False to get RMSE, here we use np.sqrt().\n",
    "rmse = np.sqrt(mean_squared_error(y_true=expected, y_pred=predicted))  \n",
    "\n",
    "# MAE\n",
    "mae = mean_absolute_error(y_true=expected, y_pred=predicted)\n",
    "\n",
    "print(f\"R2: {r2}, RMSE: {rmse}, Mean absolute error: {mae}\")"
   ]
  },
  {
   "cell_type": "markdown",
   "metadata": {},
   "source": [
    "If the metrics look acceptable, the model is ready for use."
   ]
  },
  {
   "cell_type": "markdown",
   "metadata": {},
   "source": [
    "### Build merged model"
   ]
  },
  {
   "cell_type": "markdown",
   "metadata": {},
   "source": [
    "Now we can merge train and test data, and build (train) the model again. We will have no more holdout data to evaluate the model, but hopefully the model will be a little better by seeing a little more data."
   ]
  },
  {
   "cell_type": "code",
   "execution_count": 18,
   "metadata": {},
   "outputs": [],
   "source": [
    "# Build (Train) and save the model on the merged train+test data.\n",
    "build_merged(buildconfig, \"../target/merged.pkl\")"
   ]
  },
  {
   "cell_type": "markdown",
   "metadata": {},
   "source": [
    "## Preprocessing: splitting data into train and test sets, and removing duplicates"
   ]
  },
  {
   "cell_type": "markdown",
   "metadata": {},
   "source": [
    "### Splitting into train and test dataset"
   ]
  },
  {
   "cell_type": "markdown",
   "metadata": {},
   "source": [
    "QPTUNA can split data into train and test (holdout) datasets. To do so, send all data in as training_dataset_file, and choose a splitting strategy. Currently QPTUNA supports three splitting strategies: random, temporal and stratified. \n",
    "\n",
    "Random strategy splits data randomly, taking a specified fraction of observations to be test dataset. \n",
    "\n",
    "Temporal strategy takes the first observations as training dataset, and the last specified fraction of observations as test dataset. The input dataset must be already sorted, from oldest in the beginning to newest and the end. This sorting can be done in any external tool (e.g. Excel). \n",
    "\n",
    "Stratified strategy splits data into bins first, and then takes a fraction from each bin to be the test dataset. This ensures that the distributions in the train and test data are similar. This is a better strategy if dataset is unballanced."
   ]
  },
  {
   "cell_type": "markdown",
   "metadata": {},
   "source": [
    "### Removing duplicates"
   ]
  },
  {
   "cell_type": "markdown",
   "metadata": {},
   "source": [
    "All the algorithms QPTUNA supports do not work with duplicates. Duplicates can come from multiple measurements for the same compound, or from the fact that the molecular descriptors we use are all disregard stereochemistry, so even if compounds are different, descriptors make them into duplicates. QPTUNA provides several strategies to remove duplicates:\n",
    "* keep first / keep last - when the first or the last measurement is the one that we trust\n",
    "* keep max / keep min - when we want to keep the best value out of many\n",
    "* keep random - when we don't want to know which one we will keep\n"
   ]
  },
  {
   "cell_type": "markdown",
   "metadata": {},
   "source": [
    "### Configuration example"
   ]
  },
  {
   "cell_type": "code",
   "execution_count": 19,
   "metadata": {},
   "outputs": [],
   "source": [
    "from optunaz.utils.preprocessing.splitter import Stratified\n",
    "from optunaz.utils.preprocessing.deduplicator import KeepMax\n",
    "# Prepare hyperparameter optimization configuration.\n",
    "config = OptimizationConfig(\n",
    "    data=Dataset(\n",
    "        input_column=\"canonical\",\n",
    "        response_column=\"molwt\",\n",
    "        training_dataset_file=\"../tests/data/DRD2/subset-100/train.csv\",  # This will be split into train and test.\n",
    "        split_strategy=Stratified(fraction=0.2),\n",
    "        deduplication_strategy=KeepMax(),\n",
    "    ),\n",
    "    descriptors=[\n",
    "        ECFP.new(), \n",
    "        ECFP_counts.new(), \n",
    "        MACCS_keys.new(),\n",
    "    ],\n",
    "    algorithms=[\n",
    "        SVR.new(),\n",
    "        RandomForestRegressor.new(n_estimators={\"low\": 5, \"high\": 10}),\n",
    "        Ridge.new(),\n",
    "        Lasso.new(),\n",
    "        PLSRegression.new(),\n",
    "        XGBRegressor.new(),\n",
    "    ],\n",
    "    settings=OptimizationConfig.Settings(\n",
    "        mode=ModelMode.REGRESSION,\n",
    "        cross_validation=3,\n",
    "        n_trials=100,\n",
    "        n_startup_trials=50,\n",
    "        direction=OptimizationDirection.MAXIMIZATION,\n",
    "        track_to_mlflow=False,\n",
    "    ),\n",
    ") "
   ]
  },
  {
   "cell_type": "code",
   "execution_count": 20,
   "metadata": {},
   "outputs": [
    {
     "name": "stderr",
     "output_type": "stream",
     "text": [
      "\u001B[32m[I 2021-11-03 15:27:57,153]\u001B[0m A new study created in memory with name: my_study_stratified_split\u001B[0m\n",
      "\u001B[32m[I 2021-11-03 15:27:57,290]\u001B[0m Trial 0 finished with value: 0.5272471400208008 and parameters: {'algorithm_name': 'Lasso', 'alpha': 1.8368250679799054, 'descriptor': '{\"name\": \"MACCS_keys\", \"parameters\": {}}'}. Best is trial 0 with value: 0.5272471400208008.\u001B[0m\n",
      "\u001B[32m[I 2021-11-03 15:27:57,557]\u001B[0m Trial 1 finished with value: 0.42250957333204076 and parameters: {'algorithm_name': 'RandomForestRegressor', 'max_depth': 5, 'n_estimators': 9, 'max_features': <RandomForestMaxFeatures.AUTO: 'auto'>, 'descriptor': '{\"name\": \"ECFP_counts\", \"parameters\": {\"radius\": 3, \"useFeatures\": true, \"nBits\": 2048}}'}. Best is trial 0 with value: 0.5272471400208008.\u001B[0m\n",
      "\u001B[32m[I 2021-11-03 15:27:57,855]\u001B[0m Trial 2 finished with value: 0.3777793264664564 and parameters: {'algorithm_name': 'RandomForestRegressor', 'max_depth': 13, 'n_estimators': 6, 'max_features': <RandomForestMaxFeatures.AUTO: 'auto'>, 'descriptor': '{\"name\": \"MACCS_keys\", \"parameters\": {}}'}. Best is trial 0 with value: 0.5272471400208008.\u001B[0m\n",
      "\u001B[32m[I 2021-11-03 15:27:58,074]\u001B[0m Trial 3 finished with value: 0.9018205851785218 and parameters: {'algorithm_name': 'Lasso', 'alpha': 1.5762774751768829, 'descriptor': '{\"name\": \"ECFP_counts\", \"parameters\": {\"radius\": 3, \"useFeatures\": true, \"nBits\": 2048}}'}. Best is trial 3 with value: 0.9018205851785218.\u001B[0m\n",
      "\u001B[32m[I 2021-11-03 15:27:58,303]\u001B[0m Trial 4 finished with value: 0.3138955920329027 and parameters: {'algorithm_name': 'Lasso', 'alpha': 1.8336270224316593, 'descriptor': '{\"name\": \"ECFP\", \"parameters\": {\"radius\": 3, \"nBits\": 2048}}'}. Best is trial 3 with value: 0.9018205851785218.\u001B[0m\n",
      "\u001B[32m[I 2021-11-03 15:27:58,536]\u001B[0m Trial 5 finished with value: 0.1492699066417504 and parameters: {'algorithm_name': 'RandomForestRegressor', 'max_depth': 2, 'n_estimators': 9, 'max_features': <RandomForestMaxFeatures.AUTO: 'auto'>, 'descriptor': '{\"name\": \"ECFP\", \"parameters\": {\"radius\": 3, \"nBits\": 2048}}'}. Best is trial 3 with value: 0.9018205851785218.\u001B[0m\n",
      "\u001B[32m[I 2021-11-03 15:27:58,760]\u001B[0m Trial 6 finished with value: 0.14255204242802755 and parameters: {'algorithm_name': 'PLSRegression', 'n_components': 2, 'descriptor': '{\"name\": \"ECFP\", \"parameters\": {\"radius\": 3, \"nBits\": 2048}}'}. Best is trial 3 with value: 0.9018205851785218.\u001B[0m\n",
      "\u001B[32m[I 2021-11-03 15:27:59,050]\u001B[0m Trial 7 finished with value: -0.03882145009508239 and parameters: {'algorithm_name': 'SVR', 'gamma': 0.02754048276583027, 'C': 0.0014205248806912207, 'descriptor': '{\"name\": \"ECFP_counts\", \"parameters\": {\"radius\": 3, \"useFeatures\": true, \"nBits\": 2048}}'}. Best is trial 3 with value: 0.9018205851785218.\u001B[0m\n",
      "\u001B[32m[I 2021-11-03 15:27:59,266]\u001B[0m Trial 8 finished with value: 0.9030583677049787 and parameters: {'algorithm_name': 'Lasso', 'alpha': 1.1610517325228114, 'descriptor': '{\"name\": \"ECFP_counts\", \"parameters\": {\"radius\": 3, \"useFeatures\": true, \"nBits\": 2048}}'}. Best is trial 8 with value: 0.9030583677049787.\u001B[0m\n",
      "\u001B[32m[I 2021-11-03 15:27:59,544]\u001B[0m Trial 9 finished with value: -0.03882962090540065 and parameters: {'algorithm_name': 'SVR', 'gamma': 0.00010420249076026835, 'C': 3.0773799322906436e-08, 'descriptor': '{\"name\": \"MACCS_keys\", \"parameters\": {}}'}. Best is trial 8 with value: 0.9030583677049787.\u001B[0m\n",
      "\u001B[32m[I 2021-11-03 15:27:59,836]\u001B[0m Trial 10 finished with value: 0.5395630469314646 and parameters: {'algorithm_name': 'Ridge', 'alpha': 1.2221502874785015, 'descriptor': '{\"name\": \"MACCS_keys\", \"parameters\": {}}'}. Best is trial 8 with value: 0.9030583677049787.\u001B[0m\n",
      "\u001B[32m[I 2021-11-03 15:28:00,092]\u001B[0m Trial 11 finished with value: -0.03920390190212664 and parameters: {'algorithm_name': 'SVR', 'gamma': 23.014184835668395, 'C': 1.0214080288602254, 'descriptor': '{\"name\": \"ECFP\", \"parameters\": {\"radius\": 3, \"nBits\": 2048}}'}. Best is trial 8 with value: 0.9030583677049787.\u001B[0m\n",
      "\u001B[32m[I 2021-11-03 15:28:00,347]\u001B[0m Trial 12 finished with value: -0.03882962091479277 and parameters: {'algorithm_name': 'SVR', 'gamma': 0.1471662031233, 'C': 1.2913218172856119e-09, 'descriptor': '{\"name\": \"ECFP\", \"parameters\": {\"radius\": 3, \"nBits\": 2048}}'}. Best is trial 8 with value: 0.9030583677049787.\u001B[0m\n",
      "\u001B[32m[I 2021-11-03 15:28:00,746]\u001B[0m Trial 13 finished with value: 0.40152823936479426 and parameters: {'algorithm_name': 'XGBRegressor', 'max_depth': 24, 'n_estimators': 108, 'learning_rate': 0.1, 'descriptor': '{\"name\": \"MACCS_keys\", \"parameters\": {}}'}. Best is trial 8 with value: 0.9030583677049787.\u001B[0m\n",
      "\u001B[32m[I 2021-11-03 15:28:01,035]\u001B[0m Trial 14 finished with value: -0.038821271326596074 and parameters: {'algorithm_name': 'SVR', 'gamma': 0.051395250512184736, 'C': 0.2598928322200288, 'descriptor': '{\"name\": \"ECFP_counts\", \"parameters\": {\"radius\": 3, \"useFeatures\": true, \"nBits\": 2048}}'}. Best is trial 8 with value: 0.9030583677049787.\u001B[0m\n",
      "\u001B[32m[I 2021-11-03 15:28:02,567]\u001B[0m Trial 15 finished with value: 0.39651509136457747 and parameters: {'algorithm_name': 'XGBRegressor', 'max_depth': 32, 'n_estimators': 124, 'learning_rate': 0.1, 'descriptor': '{\"name\": \"ECFP_counts\", \"parameters\": {\"radius\": 3, \"useFeatures\": true, \"nBits\": 2048}}'}. Best is trial 8 with value: 0.9030583677049787.\u001B[0m\n",
      "\u001B[32m[I 2021-11-03 15:28:02,824]\u001B[0m Trial 16 finished with value: -0.038886512593754384 and parameters: {'algorithm_name': 'SVR', 'gamma': 5.199463187728146, 'C': 0.09977770946996951, 'descriptor': '{\"name\": \"MACCS_keys\", \"parameters\": {}}'}. Best is trial 8 with value: 0.9030583677049787.\u001B[0m\n",
      "\u001B[32m[I 2021-11-03 15:28:03,113]\u001B[0m Trial 17 finished with value: -0.03882954670355576 and parameters: {'algorithm_name': 'SVR', 'gamma': 0.0012576001661448778, 'C': 2.8168293232661496e-06, 'descriptor': '{\"name\": \"ECFP_counts\", \"parameters\": {\"radius\": 3, \"useFeatures\": true, \"nBits\": 2048}}'}. Best is trial 8 with value: 0.9030583677049787.\u001B[0m\n",
      "\u001B[32m[I 2021-11-03 15:28:05,793]\u001B[0m Trial 18 finished with value: 0.3961407072975376 and parameters: {'algorithm_name': 'XGBRegressor', 'max_depth': 12, 'n_estimators': 249, 'learning_rate': 0.1, 'descriptor': '{\"name\": \"ECFP_counts\", \"parameters\": {\"radius\": 3, \"useFeatures\": true, \"nBits\": 2048}}'}. Best is trial 8 with value: 0.9030583677049787.\u001B[0m\n",
      "\u001B[32m[I 2021-11-03 15:28:06,058]\u001B[0m Trial 19 finished with value: 0.38727645360264945 and parameters: {'algorithm_name': 'PLSRegression', 'n_components': 2, 'descriptor': '{\"name\": \"MACCS_keys\", \"parameters\": {}}'}. Best is trial 8 with value: 0.9030583677049787.\u001B[0m\n",
      "\u001B[32m[I 2021-11-03 15:28:06,330]\u001B[0m Trial 20 finished with value: 0.5463193365237834 and parameters: {'algorithm_name': 'Ridge', 'alpha': 1.4570990911982353, 'descriptor': '{\"name\": \"MACCS_keys\", \"parameters\": {}}'}. Best is trial 8 with value: 0.9030583677049787.\u001B[0m\n",
      "\u001B[32m[I 2021-11-03 15:28:06,589]\u001B[0m Trial 21 finished with value: -0.03882962091346028 and parameters: {'algorithm_name': 'SVR', 'gamma': 0.00013255677684608728, 'C': 4.9062456418240955e-09, 'descriptor': '{\"name\": \"ECFP\", \"parameters\": {\"radius\": 3, \"nBits\": 2048}}'}. Best is trial 8 with value: 0.9030583677049787.\u001B[0m\n",
      "\u001B[32m[I 2021-11-03 15:28:06,890]\u001B[0m Trial 22 finished with value: 0.38727645360264945 and parameters: {'algorithm_name': 'PLSRegression', 'n_components': 2, 'descriptor': '{\"name\": \"MACCS_keys\", \"parameters\": {}}'}. Best is trial 8 with value: 0.9030583677049787.\u001B[0m\n",
      "\u001B[32m[I 2021-11-03 15:28:07,410]\u001B[0m Trial 23 finished with value: 0.4371203794949576 and parameters: {'algorithm_name': 'XGBRegressor', 'max_depth': 23, 'n_estimators': 41, 'learning_rate': 0.1, 'descriptor': '{\"name\": \"ECFP_counts\", \"parameters\": {\"radius\": 3, \"useFeatures\": true, \"nBits\": 2048}}'}. Best is trial 8 with value: 0.9030583677049787.\u001B[0m\n",
      "\u001B[32m[I 2021-11-03 15:28:07,817]\u001B[0m Trial 24 finished with value: 0.40105993454500233 and parameters: {'algorithm_name': 'XGBRegressor', 'max_depth': 16, 'n_estimators': 102, 'learning_rate': 0.1, 'descriptor': '{\"name\": \"MACCS_keys\", \"parameters\": {}}'}. Best is trial 8 with value: 0.9030583677049787.\u001B[0m\n",
      "\u001B[32m[I 2021-11-03 15:28:08,079]\u001B[0m Trial 25 finished with value: 0.2707751694849813 and parameters: {'algorithm_name': 'Lasso', 'alpha': 0.13239484951892222, 'descriptor': '{\"name\": \"ECFP\", \"parameters\": {\"radius\": 3, \"nBits\": 2048}}'}. Best is trial 8 with value: 0.9030583677049787.\u001B[0m\n"
     ]
    },
    {
     "name": "stderr",
     "output_type": "stream",
     "text": [
      "\u001B[32m[I 2021-11-03 15:28:08,377]\u001B[0m Trial 26 finished with value: 0.4329496723423098 and parameters: {'algorithm_name': 'RandomForestRegressor', 'max_depth': 28, 'n_estimators': 9, 'max_features': <RandomForestMaxFeatures.AUTO: 'auto'>, 'descriptor': '{\"name\": \"MACCS_keys\", \"parameters\": {}}'}. Best is trial 8 with value: 0.9030583677049787.\u001B[0m\n",
      "\u001B[32m[I 2021-11-03 15:28:08,589]\u001B[0m Trial 27 finished with value: 0.15782948858963275 and parameters: {'algorithm_name': 'PLSRegression', 'n_components': 4, 'descriptor': '{\"name\": \"ECFP\", \"parameters\": {\"radius\": 3, \"nBits\": 2048}}'}. Best is trial 8 with value: 0.9030583677049787.\u001B[0m\n",
      "\u001B[32m[I 2021-11-03 15:28:08,993]\u001B[0m Trial 28 finished with value: 0.40142259558029547 and parameters: {'algorithm_name': 'XGBRegressor', 'max_depth': 14, 'n_estimators': 106, 'learning_rate': 0.1, 'descriptor': '{\"name\": \"MACCS_keys\", \"parameters\": {}}'}. Best is trial 8 with value: 0.9030583677049787.\u001B[0m\n",
      "\u001B[32m[I 2021-11-03 15:28:09,227]\u001B[0m Trial 29 finished with value: 0.23910691043261814 and parameters: {'algorithm_name': 'PLSRegression', 'n_components': 2, 'descriptor': '{\"name\": \"ECFP_counts\", \"parameters\": {\"radius\": 3, \"useFeatures\": true, \"nBits\": 2048}}'}. Best is trial 8 with value: 0.9030583677049787.\u001B[0m\n",
      "\u001B[32m[I 2021-11-03 15:28:09,472]\u001B[0m Trial 30 finished with value: 0.2963289248011967 and parameters: {'algorithm_name': 'RandomForestRegressor', 'max_depth': 7, 'n_estimators': 5, 'max_features': <RandomForestMaxFeatures.AUTO: 'auto'>, 'descriptor': '{\"name\": \"ECFP_counts\", \"parameters\": {\"radius\": 3, \"useFeatures\": true, \"nBits\": 2048}}'}. Best is trial 8 with value: 0.9030583677049787.\u001B[0m\n",
      "\u001B[32m[I 2021-11-03 15:28:09,729]\u001B[0m Trial 31 finished with value: 0.29329759334024474 and parameters: {'algorithm_name': 'Lasso', 'alpha': 0.594426068830944, 'descriptor': '{\"name\": \"ECFP\", \"parameters\": {\"radius\": 3, \"nBits\": 2048}}'}. Best is trial 8 with value: 0.9030583677049787.\u001B[0m\n",
      "\u001B[32m[I 2021-11-03 15:28:09,983]\u001B[0m Trial 32 finished with value: 0.37177603115355334 and parameters: {'algorithm_name': 'RandomForestRegressor', 'max_depth': 10, 'n_estimators': 5, 'max_features': <RandomForestMaxFeatures.AUTO: 'auto'>, 'descriptor': '{\"name\": \"ECFP_counts\", \"parameters\": {\"radius\": 3, \"useFeatures\": true, \"nBits\": 2048}}'}. Best is trial 8 with value: 0.9030583677049787.\u001B[0m\n",
      "\u001B[32m[I 2021-11-03 15:28:10,247]\u001B[0m Trial 33 finished with value: 0.5420635353545147 and parameters: {'algorithm_name': 'Ridge', 'alpha': 1.3010267222390506, 'descriptor': '{\"name\": \"MACCS_keys\", \"parameters\": {}}'}. Best is trial 8 with value: 0.9030583677049787.\u001B[0m\n",
      "\u001B[32m[I 2021-11-03 15:28:10,522]\u001B[0m Trial 34 finished with value: 0.48861793985565644 and parameters: {'algorithm_name': 'RandomForestRegressor', 'max_depth': 29, 'n_estimators': 10, 'max_features': <RandomForestMaxFeatures.AUTO: 'auto'>, 'descriptor': '{\"name\": \"ECFP_counts\", \"parameters\": {\"radius\": 3, \"useFeatures\": true, \"nBits\": 2048}}'}. Best is trial 8 with value: 0.9030583677049787.\u001B[0m\n",
      "\u001B[32m[I 2021-11-03 15:28:10,722]\u001B[0m Trial 35 finished with value: 0.30747993619883474 and parameters: {'algorithm_name': 'Ridge', 'alpha': 0.6020560654781368, 'descriptor': '{\"name\": \"ECFP\", \"parameters\": {\"radius\": 3, \"nBits\": 2048}}'}. Best is trial 8 with value: 0.9030583677049787.\u001B[0m\n",
      "\u001B[32m[I 2021-11-03 15:28:10,964]\u001B[0m Trial 36 finished with value: 0.47734270752908353 and parameters: {'algorithm_name': 'RandomForestRegressor', 'max_depth': 23, 'n_estimators': 10, 'max_features': <RandomForestMaxFeatures.AUTO: 'auto'>, 'descriptor': '{\"name\": \"ECFP_counts\", \"parameters\": {\"radius\": 3, \"useFeatures\": true, \"nBits\": 2048}}'}. Best is trial 8 with value: 0.9030583677049787.\u001B[0m\n",
      "\u001B[32m[I 2021-11-03 15:28:11,160]\u001B[0m Trial 37 finished with value: 0.15782948858963275 and parameters: {'algorithm_name': 'PLSRegression', 'n_components': 4, 'descriptor': '{\"name\": \"ECFP\", \"parameters\": {\"radius\": 3, \"nBits\": 2048}}'}. Best is trial 8 with value: 0.9030583677049787.\u001B[0m\n",
      "\u001B[32m[I 2021-11-03 15:28:11,377]\u001B[0m Trial 38 finished with value: 0.8868150328050076 and parameters: {'algorithm_name': 'Ridge', 'alpha': 0.1678949019143654, 'descriptor': '{\"name\": \"ECFP_counts\", \"parameters\": {\"radius\": 3, \"useFeatures\": true, \"nBits\": 2048}}'}. Best is trial 8 with value: 0.9030583677049787.\u001B[0m\n",
      "\u001B[32m[I 2021-11-03 15:28:11,665]\u001B[0m Trial 39 finished with value: 0.28238139314733957 and parameters: {'algorithm_name': 'SVR', 'gamma': 0.02327706919268598, 'C': 39.391298322514515, 'descriptor': '{\"name\": \"ECFP_counts\", \"parameters\": {\"radius\": 3, \"useFeatures\": true, \"nBits\": 2048}}'}. Best is trial 8 with value: 0.9030583677049787.\u001B[0m\n",
      "\u001B[32m[I 2021-11-03 15:28:11,914]\u001B[0m Trial 40 finished with value: 0.8863875867664914 and parameters: {'algorithm_name': 'Ridge', 'alpha': 0.6277342046161767, 'descriptor': '{\"name\": \"ECFP_counts\", \"parameters\": {\"radius\": 3, \"useFeatures\": true, \"nBits\": 2048}}'}. Best is trial 8 with value: 0.9030583677049787.\u001B[0m\n",
      "\u001B[32m[I 2021-11-03 15:28:12,134]\u001B[0m Trial 41 finished with value: 0.30493483726314985 and parameters: {'algorithm_name': 'Ridge', 'alpha': 1.5312102331547626, 'descriptor': '{\"name\": \"ECFP\", \"parameters\": {\"radius\": 3, \"nBits\": 2048}}'}. Best is trial 8 with value: 0.9030583677049787.\u001B[0m\n",
      "\u001B[32m[I 2021-11-03 15:28:12,397]\u001B[0m Trial 42 finished with value: 0.39390552744958524 and parameters: {'algorithm_name': 'RandomForestRegressor', 'max_depth': 28, 'n_estimators': 6, 'max_features': <RandomForestMaxFeatures.AUTO: 'auto'>, 'descriptor': '{\"name\": \"ECFP_counts\", \"parameters\": {\"radius\": 3, \"useFeatures\": true, \"nBits\": 2048}}'}. Best is trial 8 with value: 0.9030583677049787.\u001B[0m\n",
      "\u001B[32m[I 2021-11-03 15:28:12,672]\u001B[0m Trial 43 finished with value: 0.46171006668943226 and parameters: {'algorithm_name': 'PLSRegression', 'n_components': 4, 'descriptor': '{\"name\": \"MACCS_keys\", \"parameters\": {}}'}. Best is trial 8 with value: 0.9030583677049787.\u001B[0m\n",
      "\u001B[32m[I 2021-11-03 15:28:12,915]\u001B[0m Trial 44 finished with value: 0.9009695743582125 and parameters: {'algorithm_name': 'Lasso', 'alpha': 0.779659634407984, 'descriptor': '{\"name\": \"ECFP_counts\", \"parameters\": {\"radius\": 3, \"useFeatures\": true, \"nBits\": 2048}}'}. Best is trial 8 with value: 0.9030583677049787.\u001B[0m\n",
      "\u001B[32m[I 2021-11-03 15:28:13,179]\u001B[0m Trial 45 finished with value: 0.526018781340161 and parameters: {'algorithm_name': 'Ridge', 'alpha': 0.8972808804398815, 'descriptor': '{\"name\": \"MACCS_keys\", \"parameters\": {}}'}. Best is trial 8 with value: 0.9030583677049787.\u001B[0m\n",
      "\u001B[32m[I 2021-11-03 15:28:13,442]\u001B[0m Trial 46 finished with value: -0.03882961432508133 and parameters: {'algorithm_name': 'SVR', 'gamma': 0.0011603604221230735, 'C': 2.205517302590531e-06, 'descriptor': '{\"name\": \"MACCS_keys\", \"parameters\": {}}'}. Best is trial 8 with value: 0.9030583677049787.\u001B[0m\n",
      "\u001B[32m[I 2021-11-03 15:28:13,662]\u001B[0m Trial 47 finished with value: 0.31292645456021145 and parameters: {'algorithm_name': 'Lasso', 'alpha': 1.63875314693633, 'descriptor': '{\"name\": \"ECFP\", \"parameters\": {\"radius\": 3, \"nBits\": 2048}}'}. Best is trial 8 with value: 0.9030583677049787.\u001B[0m\n",
      "\u001B[32m[I 2021-11-03 15:28:13,903]\u001B[0m Trial 48 finished with value: 0.8854793566330234 and parameters: {'algorithm_name': 'Ridge', 'alpha': 1.6030653891797613, 'descriptor': '{\"name\": \"ECFP_counts\", \"parameters\": {\"radius\": 3, \"useFeatures\": true, \"nBits\": 2048}}'}. Best is trial 8 with value: 0.9030583677049787.\u001B[0m\n",
      "\u001B[32m[I 2021-11-03 15:28:14,224]\u001B[0m Trial 49 finished with value: -0.03883412886180474 and parameters: {'algorithm_name': 'SVR', 'gamma': 1.0133798902938782, 'C': 0.007924903898644515, 'descriptor': '{\"name\": \"ECFP_counts\", \"parameters\": {\"radius\": 3, \"useFeatures\": true, \"nBits\": 2048}}'}. Best is trial 8 with value: 0.9030583677049787.\u001B[0m\n",
      "\u001B[32m[I 2021-11-03 15:28:14,467]\u001B[0m Trial 50 finished with value: 0.9017508438731058 and parameters: {'algorithm_name': 'Lasso', 'alpha': 0.8685024838774855, 'descriptor': '{\"name\": \"ECFP_counts\", \"parameters\": {\"radius\": 3, \"useFeatures\": true, \"nBits\": 2048}}'}. Best is trial 8 with value: 0.9030583677049787.\u001B[0m\n",
      "\u001B[32m[I 2021-11-03 15:28:14,699]\u001B[0m Trial 51 finished with value: 0.9010129175313955 and parameters: {'algorithm_name': 'Lasso', 'alpha': 0.7920399518434953, 'descriptor': '{\"name\": \"ECFP_counts\", \"parameters\": {\"radius\": 3, \"useFeatures\": true, \"nBits\": 2048}}'}. Best is trial 8 with value: 0.9030583677049787.\u001B[0m\n"
     ]
    },
    {
     "name": "stderr",
     "output_type": "stream",
     "text": [
      "\u001B[32m[I 2021-11-03 15:28:14,934]\u001B[0m Trial 52 finished with value: 0.9022107553577784 and parameters: {'algorithm_name': 'Lasso', 'alpha': 0.9759177845094449, 'descriptor': '{\"name\": \"ECFP_counts\", \"parameters\": {\"radius\": 3, \"useFeatures\": true, \"nBits\": 2048}}'}. Best is trial 8 with value: 0.9030583677049787.\u001B[0m\n",
      "\u001B[32m[I 2021-11-03 15:28:15,172]\u001B[0m Trial 53 finished with value: 0.9021148058121113 and parameters: {'algorithm_name': 'Lasso', 'alpha': 0.9499765605487189, 'descriptor': '{\"name\": \"ECFP_counts\", \"parameters\": {\"radius\": 3, \"useFeatures\": true, \"nBits\": 2048}}'}. Best is trial 8 with value: 0.9030583677049787.\u001B[0m\n",
      "\u001B[32m[I 2021-11-03 15:28:15,418]\u001B[0m Trial 54 finished with value: 0.9027671497019458 and parameters: {'algorithm_name': 'Lasso', 'alpha': 1.086651864214256, 'descriptor': '{\"name\": \"ECFP_counts\", \"parameters\": {\"radius\": 3, \"useFeatures\": true, \"nBits\": 2048}}'}. Best is trial 8 with value: 0.9030583677049787.\u001B[0m\n",
      "\u001B[32m[I 2021-11-03 15:28:15,646]\u001B[0m Trial 55 finished with value: 0.9027120357202557 and parameters: {'algorithm_name': 'Lasso', 'alpha': 1.0776089685593846, 'descriptor': '{\"name\": \"ECFP_counts\", \"parameters\": {\"radius\": 3, \"useFeatures\": true, \"nBits\": 2048}}'}. Best is trial 8 with value: 0.9030583677049787.\u001B[0m\n",
      "\u001B[32m[I 2021-11-03 15:28:15,915]\u001B[0m Trial 56 finished with value: 0.9031036159396629 and parameters: {'algorithm_name': 'Lasso', 'alpha': 1.181971786716865, 'descriptor': '{\"name\": \"ECFP_counts\", \"parameters\": {\"radius\": 3, \"useFeatures\": true, \"nBits\": 2048}}'}. Best is trial 56 with value: 0.9031036159396629.\u001B[0m\n",
      "\u001B[32m[I 2021-11-03 15:28:16,255]\u001B[0m Trial 57 finished with value: 0.9028424240275094 and parameters: {'algorithm_name': 'Lasso', 'alpha': 1.0996128775600906, 'descriptor': '{\"name\": \"ECFP_counts\", \"parameters\": {\"radius\": 3, \"useFeatures\": true, \"nBits\": 2048}}'}. Best is trial 56 with value: 0.9031036159396629.\u001B[0m\n",
      "\u001B[32m[I 2021-11-03 15:28:16,565]\u001B[0m Trial 58 finished with value: 0.9029550116002723 and parameters: {'algorithm_name': 'Lasso', 'alpha': 1.1199943473880216, 'descriptor': '{\"name\": \"ECFP_counts\", \"parameters\": {\"radius\": 3, \"useFeatures\": true, \"nBits\": 2048}}'}. Best is trial 56 with value: 0.9031036159396629.\u001B[0m\n",
      "\u001B[32m[I 2021-11-03 15:28:16,836]\u001B[0m Trial 59 finished with value: 0.9030660479804177 and parameters: {'algorithm_name': 'Lasso', 'alpha': 1.1642796888440312, 'descriptor': '{\"name\": \"ECFP_counts\", \"parameters\": {\"radius\": 3, \"useFeatures\": true, \"nBits\": 2048}}'}. Best is trial 56 with value: 0.9031036159396629.\u001B[0m\n",
      "\u001B[32m[I 2021-11-03 15:28:17,105]\u001B[0m Trial 60 finished with value: 0.9030545899506558 and parameters: {'algorithm_name': 'Lasso', 'alpha': 1.1596362808395198, 'descriptor': '{\"name\": \"ECFP_counts\", \"parameters\": {\"radius\": 3, \"useFeatures\": true, \"nBits\": 2048}}'}. Best is trial 56 with value: 0.9031036159396629.\u001B[0m\n",
      "\u001B[32m[I 2021-11-03 15:28:17,375]\u001B[0m Trial 61 finished with value: 0.9030971255680055 and parameters: {'algorithm_name': 'Lasso', 'alpha': 1.1787096751611346, 'descriptor': '{\"name\": \"ECFP_counts\", \"parameters\": {\"radius\": 3, \"useFeatures\": true, \"nBits\": 2048}}'}. Best is trial 56 with value: 0.9031036159396629.\u001B[0m\n",
      "\u001B[32m[I 2021-11-03 15:28:17,611]\u001B[0m Trial 62 finished with value: 0.9031169653420476 and parameters: {'algorithm_name': 'Lasso', 'alpha': 1.2587086074868852, 'descriptor': '{\"name\": \"ECFP_counts\", \"parameters\": {\"radius\": 3, \"useFeatures\": true, \"nBits\": 2048}}'}. Best is trial 62 with value: 0.9031169653420476.\u001B[0m\n",
      "\u001B[32m[I 2021-11-03 15:28:17,854]\u001B[0m Trial 63 finished with value: 0.903029045321056 and parameters: {'algorithm_name': 'Lasso', 'alpha': 1.3049639432023994, 'descriptor': '{\"name\": \"ECFP_counts\", \"parameters\": {\"radius\": 3, \"useFeatures\": true, \"nBits\": 2048}}'}. Best is trial 62 with value: 0.9031169653420476.\u001B[0m\n",
      "\u001B[32m[I 2021-11-03 15:28:18,131]\u001B[0m Trial 64 finished with value: 0.9025494672212933 and parameters: {'algorithm_name': 'Lasso', 'alpha': 1.3686668231339296, 'descriptor': '{\"name\": \"ECFP_counts\", \"parameters\": {\"radius\": 3, \"useFeatures\": true, \"nBits\": 2048}}'}. Best is trial 62 with value: 0.9031169653420476.\u001B[0m\n",
      "\u001B[32m[I 2021-11-03 15:28:18,379]\u001B[0m Trial 65 finished with value: 0.9031340649318561 and parameters: {'algorithm_name': 'Lasso', 'alpha': 1.24638919741936, 'descriptor': '{\"name\": \"ECFP_counts\", \"parameters\": {\"radius\": 3, \"useFeatures\": true, \"nBits\": 2048}}'}. Best is trial 65 with value: 0.9031340649318561.\u001B[0m\n",
      "\u001B[32m[I 2021-11-03 15:28:18,718]\u001B[0m Trial 66 finished with value: 0.9031432539101171 and parameters: {'algorithm_name': 'Lasso', 'alpha': 1.2039763854887529, 'descriptor': '{\"name\": \"ECFP_counts\", \"parameters\": {\"radius\": 3, \"useFeatures\": true, \"nBits\": 2048}}'}. Best is trial 66 with value: 0.9031432539101171.\u001B[0m\n",
      "\u001B[32m[I 2021-11-03 15:28:18,982]\u001B[0m Trial 67 finished with value: 0.9031315808748438 and parameters: {'algorithm_name': 'Lasso', 'alpha': 1.2483079238956216, 'descriptor': '{\"name\": \"ECFP_counts\", \"parameters\": {\"radius\": 3, \"useFeatures\": true, \"nBits\": 2048}}'}. Best is trial 66 with value: 0.9031432539101171.\u001B[0m\n",
      "\u001B[32m[I 2021-11-03 15:28:19,221]\u001B[0m Trial 68 finished with value: 0.9024578701038678 and parameters: {'algorithm_name': 'Lasso', 'alpha': 1.3989230147085496, 'descriptor': '{\"name\": \"ECFP_counts\", \"parameters\": {\"radius\": 3, \"useFeatures\": true, \"nBits\": 2048}}'}. Best is trial 66 with value: 0.9031432539101171.\u001B[0m\n",
      "\u001B[32m[I 2021-11-03 15:28:19,467]\u001B[0m Trial 69 finished with value: 0.9030891894162796 and parameters: {'algorithm_name': 'Lasso', 'alpha': 1.2746002165428791, 'descriptor': '{\"name\": \"ECFP_counts\", \"parameters\": {\"radius\": 3, \"useFeatures\": true, \"nBits\": 2048}}'}. Best is trial 66 with value: 0.9031432539101171.\u001B[0m\n",
      "\u001B[32m[I 2021-11-03 15:28:19,703]\u001B[0m Trial 70 finished with value: 0.9031078835468151 and parameters: {'algorithm_name': 'Lasso', 'alpha': 1.2645669710379508, 'descriptor': '{\"name\": \"ECFP_counts\", \"parameters\": {\"radius\": 3, \"useFeatures\": true, \"nBits\": 2048}}'}. Best is trial 66 with value: 0.9031432539101171.\u001B[0m\n",
      "\u001B[32m[I 2021-11-03 15:28:19,939]\u001B[0m Trial 71 finished with value: 0.9030724277049549 and parameters: {'algorithm_name': 'Lasso', 'alpha': 1.283595659006537, 'descriptor': '{\"name\": \"ECFP_counts\", \"parameters\": {\"radius\": 3, \"useFeatures\": true, \"nBits\": 2048}}'}. Best is trial 66 with value: 0.9031432539101171.\u001B[0m\n",
      "\u001B[32m[I 2021-11-03 15:28:20,194]\u001B[0m Trial 72 finished with value: 0.9031282473278918 and parameters: {'algorithm_name': 'Lasso', 'alpha': 1.2508102239133658, 'descriptor': '{\"name\": \"ECFP_counts\", \"parameters\": {\"radius\": 3, \"useFeatures\": true, \"nBits\": 2048}}'}. Best is trial 66 with value: 0.9031432539101171.\u001B[0m\n",
      "\u001B[32m[I 2021-11-03 15:28:20,440]\u001B[0m Trial 73 finished with value: 0.9023671181098735 and parameters: {'algorithm_name': 'Lasso', 'alpha': 1.42665899991158, 'descriptor': '{\"name\": \"ECFP_counts\", \"parameters\": {\"radius\": 3, \"useFeatures\": true, \"nBits\": 2048}}'}. Best is trial 66 with value: 0.9031432539101171.\u001B[0m\n",
      "\u001B[32m[I 2021-11-03 15:28:20,695]\u001B[0m Trial 74 finished with value: 0.903154347852746 and parameters: {'algorithm_name': 'Lasso', 'alpha': 1.2109579556611938, 'descriptor': '{\"name\": \"ECFP_counts\", \"parameters\": {\"radius\": 3, \"useFeatures\": true, \"nBits\": 2048}}'}. Best is trial 74 with value: 0.903154347852746.\u001B[0m\n",
      "\u001B[32m[I 2021-11-03 15:28:20,962]\u001B[0m Trial 75 finished with value: 0.9031532973219317 and parameters: {'algorithm_name': 'Lasso', 'alpha': 1.2102507705031618, 'descriptor': '{\"name\": \"ECFP_counts\", \"parameters\": {\"radius\": 3, \"useFeatures\": true, \"nBits\": 2048}}'}. Best is trial 74 with value: 0.903154347852746.\u001B[0m\n",
      "\u001B[32m[I 2021-11-03 15:28:21,226]\u001B[0m Trial 76 finished with value: 0.9026668155325165 and parameters: {'algorithm_name': 'Lasso', 'alpha': 1.3489673725440627, 'descriptor': '{\"name\": \"ECFP_counts\", \"parameters\": {\"radius\": 3, \"useFeatures\": true, \"nBits\": 2048}}'}. Best is trial 74 with value: 0.903154347852746.\u001B[0m\n",
      "\u001B[32m[I 2021-11-03 15:28:21,455]\u001B[0m Trial 77 finished with value: 0.902186241705289 and parameters: {'algorithm_name': 'Lasso', 'alpha': 1.4773404939715387, 'descriptor': '{\"name\": \"ECFP_counts\", \"parameters\": {\"radius\": 3, \"useFeatures\": true, \"nBits\": 2048}}'}. Best is trial 74 with value: 0.903154347852746.\u001B[0m\n"
     ]
    },
    {
     "name": "stderr",
     "output_type": "stream",
     "text": [
      "\u001B[32m[I 2021-11-03 15:28:21,695]\u001B[0m Trial 78 finished with value: 0.9031232605647569 and parameters: {'algorithm_name': 'Lasso', 'alpha': 1.254400603917495, 'descriptor': '{\"name\": \"ECFP_counts\", \"parameters\": {\"radius\": 3, \"useFeatures\": true, \"nBits\": 2048}}'}. Best is trial 74 with value: 0.903154347852746.\u001B[0m\n",
      "\u001B[32m[I 2021-11-03 15:28:21,949]\u001B[0m Trial 79 finished with value: 0.902542668143119 and parameters: {'algorithm_name': 'Lasso', 'alpha': 1.0500240113469126, 'descriptor': '{\"name\": \"ECFP_counts\", \"parameters\": {\"radius\": 3, \"useFeatures\": true, \"nBits\": 2048}}'}. Best is trial 74 with value: 0.903154347852746.\u001B[0m\n",
      "\u001B[32m[I 2021-11-03 15:28:22,173]\u001B[0m Trial 80 finished with value: 0.9031359166611153 and parameters: {'algorithm_name': 'Lasso', 'alpha': 1.2449236367570193, 'descriptor': '{\"name\": \"ECFP_counts\", \"parameters\": {\"radius\": 3, \"useFeatures\": true, \"nBits\": 2048}}'}. Best is trial 74 with value: 0.903154347852746.\u001B[0m\n",
      "\u001B[32m[I 2021-11-03 15:28:22,399]\u001B[0m Trial 81 finished with value: 0.9031225253322783 and parameters: {'algorithm_name': 'Lasso', 'alpha': 1.25491529328555, 'descriptor': '{\"name\": \"ECFP_counts\", \"parameters\": {\"radius\": 3, \"useFeatures\": true, \"nBits\": 2048}}'}. Best is trial 74 with value: 0.903154347852746.\u001B[0m\n",
      "\u001B[32m[I 2021-11-03 15:28:22,630]\u001B[0m Trial 82 finished with value: 0.9031584182859785 and parameters: {'algorithm_name': 'Lasso', 'alpha': 1.2223384425700494, 'descriptor': '{\"name\": \"ECFP_counts\", \"parameters\": {\"radius\": 3, \"useFeatures\": true, \"nBits\": 2048}}'}. Best is trial 82 with value: 0.9031584182859785.\u001B[0m\n",
      "\u001B[32m[I 2021-11-03 15:28:22,870]\u001B[0m Trial 83 finished with value: 0.9025484681819435 and parameters: {'algorithm_name': 'Lasso', 'alpha': 1.3688489356477016, 'descriptor': '{\"name\": \"ECFP_counts\", \"parameters\": {\"radius\": 3, \"useFeatures\": true, \"nBits\": 2048}}'}. Best is trial 82 with value: 0.9031584182859785.\u001B[0m\n",
      "\u001B[32m[I 2021-11-03 15:28:23,102]\u001B[0m Trial 84 finished with value: 0.903158342569359 and parameters: {'algorithm_name': 'Lasso', 'alpha': 1.2155336750827546, 'descriptor': '{\"name\": \"ECFP_counts\", \"parameters\": {\"radius\": 3, \"useFeatures\": true, \"nBits\": 2048}}'}. Best is trial 82 with value: 0.9031584182859785.\u001B[0m\n",
      "\u001B[32m[I 2021-11-03 15:28:25,889]\u001B[0m Trial 85 finished with value: 0.3964833764440458 and parameters: {'algorithm_name': 'XGBRegressor', 'max_depth': 19, 'n_estimators': 242, 'learning_rate': 0.1, 'descriptor': '{\"name\": \"ECFP_counts\", \"parameters\": {\"radius\": 3, \"useFeatures\": true, \"nBits\": 2048}}'}. Best is trial 82 with value: 0.9031584182859785.\u001B[0m\n",
      "\u001B[32m[I 2021-11-03 15:28:26,125]\u001B[0m Trial 86 finished with value: 0.902162655776913 and parameters: {'algorithm_name': 'Lasso', 'alpha': 1.4837229954547382, 'descriptor': '{\"name\": \"ECFP_counts\", \"parameters\": {\"radius\": 3, \"useFeatures\": true, \"nBits\": 2048}}'}. Best is trial 82 with value: 0.9031584182859785.\u001B[0m\n",
      "\u001B[32m[I 2021-11-03 15:28:26,362]\u001B[0m Trial 87 finished with value: 0.9024164865115499 and parameters: {'algorithm_name': 'Lasso', 'alpha': 1.0271644141438945, 'descriptor': '{\"name\": \"ECFP_counts\", \"parameters\": {\"radius\": 3, \"useFeatures\": true, \"nBits\": 2048}}'}. Best is trial 82 with value: 0.9031584182859785.\u001B[0m\n",
      "\u001B[32m[I 2021-11-03 15:28:26,608]\u001B[0m Trial 88 finished with value: 0.9013572426659909 and parameters: {'algorithm_name': 'Lasso', 'alpha': 1.6902694301537582, 'descriptor': '{\"name\": \"ECFP_counts\", \"parameters\": {\"radius\": 3, \"useFeatures\": true, \"nBits\": 2048}}'}. Best is trial 82 with value: 0.9031584182859785.\u001B[0m\n",
      "\u001B[32m[I 2021-11-03 15:28:26,830]\u001B[0m Trial 89 finished with value: 0.9031382113048544 and parameters: {'algorithm_name': 'Lasso', 'alpha': 1.2008784168753257, 'descriptor': '{\"name\": \"ECFP_counts\", \"parameters\": {\"radius\": 3, \"useFeatures\": true, \"nBits\": 2048}}'}. Best is trial 82 with value: 0.9031584182859785.\u001B[0m\n",
      "\u001B[32m[I 2021-11-03 15:28:27,060]\u001B[0m Trial 90 finished with value: 0.9030974333064862 and parameters: {'algorithm_name': 'Lasso', 'alpha': 1.1788628587384808, 'descriptor': '{\"name\": \"ECFP_counts\", \"parameters\": {\"radius\": 3, \"useFeatures\": true, \"nBits\": 2048}}'}. Best is trial 82 with value: 0.9031584182859785.\u001B[0m\n",
      "\u001B[32m[I 2021-11-03 15:28:27,379]\u001B[0m Trial 91 finished with value: 0.9027734016163436 and parameters: {'algorithm_name': 'Lasso', 'alpha': 1.3363938727517242, 'descriptor': '{\"name\": \"ECFP_counts\", \"parameters\": {\"radius\": 3, \"useFeatures\": true, \"nBits\": 2048}}'}. Best is trial 82 with value: 0.9031584182859785.\u001B[0m\n",
      "\u001B[32m[I 2021-11-03 15:28:27,610]\u001B[0m Trial 92 finished with value: 0.9031582656498109 and parameters: {'algorithm_name': 'Lasso', 'alpha': 1.2237991044541872, 'descriptor': '{\"name\": \"ECFP_counts\", \"parameters\": {\"radius\": 3, \"useFeatures\": true, \"nBits\": 2048}}'}. Best is trial 82 with value: 0.9031584182859785.\u001B[0m\n",
      "\u001B[32m[I 2021-11-03 15:28:27,858]\u001B[0m Trial 93 finished with value: 0.9031475072631673 and parameters: {'algorithm_name': 'Lasso', 'alpha': 1.206451107210139, 'descriptor': '{\"name\": \"ECFP_counts\", \"parameters\": {\"radius\": 3, \"useFeatures\": true, \"nBits\": 2048}}'}. Best is trial 82 with value: 0.9031584182859785.\u001B[0m\n",
      "\u001B[32m[I 2021-11-03 15:28:28,105]\u001B[0m Trial 94 finished with value: 0.9023313855833738 and parameters: {'algorithm_name': 'Lasso', 'alpha': 1.0060973295337767, 'descriptor': '{\"name\": \"ECFP_counts\", \"parameters\": {\"radius\": 3, \"useFeatures\": true, \"nBits\": 2048}}'}. Best is trial 82 with value: 0.9031584182859785.\u001B[0m\n",
      "\u001B[32m[I 2021-11-03 15:28:28,356]\u001B[0m Trial 95 finished with value: 0.8993681364942621 and parameters: {'algorithm_name': 'Lasso', 'alpha': 1.982381364347135, 'descriptor': '{\"name\": \"ECFP_counts\", \"parameters\": {\"radius\": 3, \"useFeatures\": true, \"nBits\": 2048}}'}. Best is trial 82 with value: 0.9031584182859785.\u001B[0m\n",
      "\u001B[32m[I 2021-11-03 15:28:30,640]\u001B[0m Trial 96 finished with value: 0.3964833764440458 and parameters: {'algorithm_name': 'XGBRegressor', 'max_depth': 19, 'n_estimators': 201, 'learning_rate': 0.1, 'descriptor': '{\"name\": \"ECFP_counts\", \"parameters\": {\"radius\": 3, \"useFeatures\": true, \"nBits\": 2048}}'}. Best is trial 82 with value: 0.9031584182859785.\u001B[0m\n",
      "\u001B[32m[I 2021-11-03 15:28:30,926]\u001B[0m Trial 97 finished with value: 0.2553843729854264 and parameters: {'algorithm_name': 'PLSRegression', 'n_components': 5, 'descriptor': '{\"name\": \"ECFP_counts\", \"parameters\": {\"radius\": 3, \"useFeatures\": true, \"nBits\": 2048}}'}. Best is trial 82 with value: 0.9031584182859785.\u001B[0m\n",
      "\u001B[32m[I 2021-11-03 15:28:31,203]\u001B[0m Trial 98 finished with value: 0.9028732389346125 and parameters: {'algorithm_name': 'Lasso', 'alpha': 1.1050549005489305, 'descriptor': '{\"name\": \"ECFP_counts\", \"parameters\": {\"radius\": 3, \"useFeatures\": true, \"nBits\": 2048}}'}. Best is trial 82 with value: 0.9031584182859785.\u001B[0m\n",
      "\u001B[32m[I 2021-11-03 15:28:31,469]\u001B[0m Trial 99 finished with value: 0.9030744235433957 and parameters: {'algorithm_name': 'Lasso', 'alpha': 1.1682731313734955, 'descriptor': '{\"name\": \"ECFP_counts\", \"parameters\": {\"radius\": 3, \"useFeatures\": true, \"nBits\": 2048}}'}. Best is trial 82 with value: 0.9031584182859785.\u001B[0m\n",
      "/Users/kfwm779/miniconda/envs/Optuna_AZ/lib/python3.7/site-packages/sklearn/linear_model/coordinate_descent.py:475: ConvergenceWarning: Objective did not converge. You might want to increase the number of iterations. Duality gap: 53.961124256091864, tolerance: 19.272386478151564\n",
      "  positive)\n",
      "/Users/kfwm779/miniconda/envs/Optuna_AZ/lib/python3.7/site-packages/sklearn/cross_decomposition/pls_.py:360: DeprecationWarning: scipy.linalg.pinv2 is deprecated since SciPy 1.7.0, use scipy.linalg.pinv instead\n",
      "  check_finite=False))\n",
      "/Users/kfwm779/miniconda/envs/Optuna_AZ/lib/python3.7/site-packages/sklearn/linear_model/coordinate_descent.py:475: ConvergenceWarning: Objective did not converge. You might want to increase the number of iterations. Duality gap: 35.536876376506264, tolerance: 19.272386478151564\n",
      "  positive)\n",
      "/Users/kfwm779/miniconda/envs/Optuna_AZ/lib/python3.7/site-packages/sklearn/cross_decomposition/pls_.py:360: DeprecationWarning: scipy.linalg.pinv2 is deprecated since SciPy 1.7.0, use scipy.linalg.pinv instead\n",
      "  check_finite=False))\n",
      "/Users/kfwm779/miniconda/envs/Optuna_AZ/lib/python3.7/site-packages/sklearn/cross_decomposition/pls_.py:360: DeprecationWarning: scipy.linalg.pinv2 is deprecated since SciPy 1.7.0, use scipy.linalg.pinv instead\n",
      "  check_finite=False))\n",
      "/Users/kfwm779/miniconda/envs/Optuna_AZ/lib/python3.7/site-packages/sklearn/linear_model/coordinate_descent.py:475: ConvergenceWarning: Objective did not converge. You might want to increase the number of iterations. Duality gap: 35.80793293583582, tolerance: 29.603819246370417\n",
      "  positive)\n"
     ]
    },
    {
     "name": "stderr",
     "output_type": "stream",
     "text": [
      "/Users/kfwm779/miniconda/envs/Optuna_AZ/lib/python3.7/site-packages/sklearn/cross_decomposition/pls_.py:360: DeprecationWarning: scipy.linalg.pinv2 is deprecated since SciPy 1.7.0, use scipy.linalg.pinv instead\n",
      "  check_finite=False))\n",
      "/Users/kfwm779/miniconda/envs/Optuna_AZ/lib/python3.7/site-packages/sklearn/cross_decomposition/pls_.py:360: DeprecationWarning: scipy.linalg.pinv2 is deprecated since SciPy 1.7.0, use scipy.linalg.pinv instead\n",
      "  check_finite=False))\n",
      "/Users/kfwm779/miniconda/envs/Optuna_AZ/lib/python3.7/site-packages/sklearn/cross_decomposition/pls_.py:360: DeprecationWarning: scipy.linalg.pinv2 is deprecated since SciPy 1.7.0, use scipy.linalg.pinv instead\n",
      "  check_finite=False))\n",
      "/Users/kfwm779/miniconda/envs/Optuna_AZ/lib/python3.7/site-packages/sklearn/linear_model/coordinate_descent.py:475: ConvergenceWarning: Objective did not converge. You might want to increase the number of iterations. Duality gap: 18.72855397608553, tolerance: 18.69977074335155\n",
      "  positive)\n",
      "/Users/kfwm779/miniconda/envs/Optuna_AZ/lib/python3.7/site-packages/sklearn/cross_decomposition/pls_.py:360: DeprecationWarning: scipy.linalg.pinv2 is deprecated since SciPy 1.7.0, use scipy.linalg.pinv instead\n",
      "  check_finite=False))\n",
      "/Users/kfwm779/miniconda/envs/Optuna_AZ/lib/python3.7/site-packages/sklearn/cross_decomposition/pls_.py:360: DeprecationWarning: scipy.linalg.pinv2 is deprecated since SciPy 1.7.0, use scipy.linalg.pinv instead\n",
      "  check_finite=False))\n",
      "/Users/kfwm779/miniconda/envs/Optuna_AZ/lib/python3.7/site-packages/sklearn/cross_decomposition/pls_.py:360: DeprecationWarning: scipy.linalg.pinv2 is deprecated since SciPy 1.7.0, use scipy.linalg.pinv instead\n",
      "  check_finite=False))\n",
      "/Users/kfwm779/miniconda/envs/Optuna_AZ/lib/python3.7/site-packages/sklearn/linear_model/coordinate_descent.py:475: ConvergenceWarning: Objective did not converge. You might want to increase the number of iterations. Duality gap: 80.35984421498462, tolerance: 17.5840422902471\n",
      "  positive)\n",
      "/Users/kfwm779/miniconda/envs/Optuna_AZ/lib/python3.7/site-packages/sklearn/linear_model/coordinate_descent.py:475: ConvergenceWarning: Objective did not converge. You might want to increase the number of iterations. Duality gap: 27.321583734260567, tolerance: 19.272386478151564\n",
      "  positive)\n",
      "/Users/kfwm779/miniconda/envs/Optuna_AZ/lib/python3.7/site-packages/sklearn/cross_decomposition/pls_.py:360: DeprecationWarning: scipy.linalg.pinv2 is deprecated since SciPy 1.7.0, use scipy.linalg.pinv instead\n",
      "  check_finite=False))\n",
      "/Users/kfwm779/miniconda/envs/Optuna_AZ/lib/python3.7/site-packages/sklearn/cross_decomposition/pls_.py:360: DeprecationWarning: scipy.linalg.pinv2 is deprecated since SciPy 1.7.0, use scipy.linalg.pinv instead\n",
      "  check_finite=False))\n",
      "/Users/kfwm779/miniconda/envs/Optuna_AZ/lib/python3.7/site-packages/sklearn/cross_decomposition/pls_.py:360: DeprecationWarning: scipy.linalg.pinv2 is deprecated since SciPy 1.7.0, use scipy.linalg.pinv instead\n",
      "  check_finite=False))\n",
      "/Users/kfwm779/miniconda/envs/Optuna_AZ/lib/python3.7/site-packages/sklearn/linear_model/coordinate_descent.py:475: ConvergenceWarning: Objective did not converge. You might want to increase the number of iterations. Duality gap: 42.759916719811145, tolerance: 18.69977074335155\n",
      "  positive)\n",
      "/Users/kfwm779/miniconda/envs/Optuna_AZ/lib/python3.7/site-packages/sklearn/cross_decomposition/pls_.py:360: DeprecationWarning: scipy.linalg.pinv2 is deprecated since SciPy 1.7.0, use scipy.linalg.pinv instead\n",
      "  check_finite=False))\n",
      "/Users/kfwm779/miniconda/envs/Optuna_AZ/lib/python3.7/site-packages/sklearn/cross_decomposition/pls_.py:360: DeprecationWarning: scipy.linalg.pinv2 is deprecated since SciPy 1.7.0, use scipy.linalg.pinv instead\n",
      "  check_finite=False))\n",
      "/Users/kfwm779/miniconda/envs/Optuna_AZ/lib/python3.7/site-packages/sklearn/cross_decomposition/pls_.py:360: DeprecationWarning: scipy.linalg.pinv2 is deprecated since SciPy 1.7.0, use scipy.linalg.pinv instead\n",
      "  check_finite=False))\n",
      "/Users/kfwm779/miniconda/envs/Optuna_AZ/lib/python3.7/site-packages/sklearn/cross_decomposition/pls_.py:360: DeprecationWarning: scipy.linalg.pinv2 is deprecated since SciPy 1.7.0, use scipy.linalg.pinv instead\n",
      "  check_finite=False))\n",
      "/Users/kfwm779/miniconda/envs/Optuna_AZ/lib/python3.7/site-packages/sklearn/linear_model/coordinate_descent.py:475: ConvergenceWarning: Objective did not converge. You might want to increase the number of iterations. Duality gap: 37.98977227023684, tolerance: 18.69977074335155\n",
      "  positive)\n",
      "/Users/kfwm779/miniconda/envs/Optuna_AZ/lib/python3.7/site-packages/sklearn/cross_decomposition/pls_.py:360: DeprecationWarning: scipy.linalg.pinv2 is deprecated since SciPy 1.7.0, use scipy.linalg.pinv instead\n",
      "  check_finite=False))\n",
      "/Users/kfwm779/miniconda/envs/Optuna_AZ/lib/python3.7/site-packages/sklearn/cross_decomposition/pls_.py:360: DeprecationWarning: scipy.linalg.pinv2 is deprecated since SciPy 1.7.0, use scipy.linalg.pinv instead\n",
      "  check_finite=False))\n",
      "/Users/kfwm779/miniconda/envs/Optuna_AZ/lib/python3.7/site-packages/sklearn/cross_decomposition/pls_.py:360: DeprecationWarning: scipy.linalg.pinv2 is deprecated since SciPy 1.7.0, use scipy.linalg.pinv instead\n",
      "  check_finite=False))\n",
      "/Users/kfwm779/miniconda/envs/Optuna_AZ/lib/python3.7/site-packages/sklearn/linear_model/coordinate_descent.py:475: ConvergenceWarning: Objective did not converge. You might want to increase the number of iterations. Duality gap: 37.51871632605676, tolerance: 18.69977074335155\n",
      "  positive)\n",
      "/Users/kfwm779/miniconda/envs/Optuna_AZ/lib/python3.7/site-packages/sklearn/cross_decomposition/pls_.py:360: DeprecationWarning: scipy.linalg.pinv2 is deprecated since SciPy 1.7.0, use scipy.linalg.pinv instead\n",
      "  check_finite=False))\n",
      "/Users/kfwm779/miniconda/envs/Optuna_AZ/lib/python3.7/site-packages/sklearn/cross_decomposition/pls_.py:360: DeprecationWarning: scipy.linalg.pinv2 is deprecated since SciPy 1.7.0, use scipy.linalg.pinv instead\n",
      "  check_finite=False))\n",
      "/Users/kfwm779/miniconda/envs/Optuna_AZ/lib/python3.7/site-packages/sklearn/cross_decomposition/pls_.py:360: DeprecationWarning: scipy.linalg.pinv2 is deprecated since SciPy 1.7.0, use scipy.linalg.pinv instead\n",
      "  check_finite=False))\n",
      "/Users/kfwm779/miniconda/envs/Optuna_AZ/lib/python3.7/site-packages/sklearn/linear_model/coordinate_descent.py:475: ConvergenceWarning: Objective did not converge. You might want to increase the number of iterations. Duality gap: 68.09240010772686, tolerance: 18.69977074335155\n",
      "  positive)\n",
      "/Users/kfwm779/miniconda/envs/Optuna_AZ/lib/python3.7/site-packages/sklearn/cross_decomposition/pls_.py:360: DeprecationWarning: scipy.linalg.pinv2 is deprecated since SciPy 1.7.0, use scipy.linalg.pinv instead\n",
      "  check_finite=False))\n",
      "/Users/kfwm779/miniconda/envs/Optuna_AZ/lib/python3.7/site-packages/sklearn/cross_decomposition/pls_.py:360: DeprecationWarning: scipy.linalg.pinv2 is deprecated since SciPy 1.7.0, use scipy.linalg.pinv instead\n",
      "  check_finite=False))\n",
      "/Users/kfwm779/miniconda/envs/Optuna_AZ/lib/python3.7/site-packages/sklearn/cross_decomposition/pls_.py:360: DeprecationWarning: scipy.linalg.pinv2 is deprecated since SciPy 1.7.0, use scipy.linalg.pinv instead\n",
      "  check_finite=False))\n",
      "/Users/kfwm779/miniconda/envs/Optuna_AZ/lib/python3.7/site-packages/sklearn/cross_decomposition/pls_.py:360: DeprecationWarning: scipy.linalg.pinv2 is deprecated since SciPy 1.7.0, use scipy.linalg.pinv instead\n",
      "  check_finite=False))\n",
      "/Users/kfwm779/miniconda/envs/Optuna_AZ/lib/python3.7/site-packages/sklearn/cross_decomposition/pls_.py:360: DeprecationWarning: scipy.linalg.pinv2 is deprecated since SciPy 1.7.0, use scipy.linalg.pinv instead\n",
      "  check_finite=False))\n",
      "/Users/kfwm779/miniconda/envs/Optuna_AZ/lib/python3.7/site-packages/sklearn/cross_decomposition/pls_.py:360: DeprecationWarning: scipy.linalg.pinv2 is deprecated since SciPy 1.7.0, use scipy.linalg.pinv instead\n",
      "  check_finite=False))\n",
      "/Users/kfwm779/miniconda/envs/Optuna_AZ/lib/python3.7/site-packages/sklearn/cross_decomposition/pls_.py:360: DeprecationWarning: scipy.linalg.pinv2 is deprecated since SciPy 1.7.0, use scipy.linalg.pinv instead\n",
      "  check_finite=False))\n",
      "/Users/kfwm779/miniconda/envs/Optuna_AZ/lib/python3.7/site-packages/sklearn/cross_decomposition/pls_.py:360: DeprecationWarning: scipy.linalg.pinv2 is deprecated since SciPy 1.7.0, use scipy.linalg.pinv instead\n",
      "  check_finite=False))\n",
      "/Users/kfwm779/miniconda/envs/Optuna_AZ/lib/python3.7/site-packages/sklearn/linear_model/coordinate_descent.py:475: ConvergenceWarning: Objective did not converge. You might want to increase the number of iterations. Duality gap: 44.41634538448383, tolerance: 17.5840422902471\n",
      "  positive)\n",
      "/Users/kfwm779/miniconda/envs/Optuna_AZ/lib/python3.7/site-packages/sklearn/linear_model/coordinate_descent.py:475: ConvergenceWarning: Objective did not converge. You might want to increase the number of iterations. Duality gap: 21.180469049677228, tolerance: 18.69977074335155\n",
      "  positive)\n",
      "/Users/kfwm779/miniconda/envs/Optuna_AZ/lib/python3.7/site-packages/sklearn/linear_model/coordinate_descent.py:475: ConvergenceWarning: Objective did not converge. You might want to increase the number of iterations. Duality gap: 24.106716253862757, tolerance: 19.272386478151564\n",
      "  positive)\n",
      "/Users/kfwm779/miniconda/envs/Optuna_AZ/lib/python3.7/site-packages/sklearn/cross_decomposition/pls_.py:360: DeprecationWarning: scipy.linalg.pinv2 is deprecated since SciPy 1.7.0, use scipy.linalg.pinv instead\n",
      "  check_finite=False))\n",
      "/Users/kfwm779/miniconda/envs/Optuna_AZ/lib/python3.7/site-packages/sklearn/linear_model/coordinate_descent.py:475: ConvergenceWarning: Objective did not converge. You might want to increase the number of iterations. Duality gap: 38.821078559515385, tolerance: 17.5840422902471\n",
      "  positive)\n",
      "/Users/kfwm779/miniconda/envs/Optuna_AZ/lib/python3.7/site-packages/sklearn/cross_decomposition/pls_.py:360: DeprecationWarning: scipy.linalg.pinv2 is deprecated since SciPy 1.7.0, use scipy.linalg.pinv instead\n",
      "  check_finite=False))\n",
      "/Users/kfwm779/miniconda/envs/Optuna_AZ/lib/python3.7/site-packages/sklearn/cross_decomposition/pls_.py:360: DeprecationWarning: scipy.linalg.pinv2 is deprecated since SciPy 1.7.0, use scipy.linalg.pinv instead\n",
      "  check_finite=False))\n",
      "/Users/kfwm779/miniconda/envs/Optuna_AZ/lib/python3.7/site-packages/sklearn/cross_decomposition/pls_.py:360: DeprecationWarning: scipy.linalg.pinv2 is deprecated since SciPy 1.7.0, use scipy.linalg.pinv instead\n",
      "  check_finite=False))\n",
      "/Users/kfwm779/miniconda/envs/Optuna_AZ/lib/python3.7/site-packages/sklearn/linear_model/coordinate_descent.py:475: ConvergenceWarning: Objective did not converge. You might want to increase the number of iterations. Duality gap: 84.58485528298115, tolerance: 19.272386478151564\n",
      "  positive)\n",
      "/Users/kfwm779/miniconda/envs/Optuna_AZ/lib/python3.7/site-packages/sklearn/cross_decomposition/pls_.py:360: DeprecationWarning: scipy.linalg.pinv2 is deprecated since SciPy 1.7.0, use scipy.linalg.pinv instead\n",
      "  check_finite=False))\n",
      "/Users/kfwm779/miniconda/envs/Optuna_AZ/lib/python3.7/site-packages/sklearn/cross_decomposition/pls_.py:360: DeprecationWarning: scipy.linalg.pinv2 is deprecated since SciPy 1.7.0, use scipy.linalg.pinv instead\n",
      "  check_finite=False))\n",
      "/Users/kfwm779/miniconda/envs/Optuna_AZ/lib/python3.7/site-packages/sklearn/cross_decomposition/pls_.py:360: DeprecationWarning: scipy.linalg.pinv2 is deprecated since SciPy 1.7.0, use scipy.linalg.pinv instead\n",
      "  check_finite=False))\n",
      "/Users/kfwm779/miniconda/envs/Optuna_AZ/lib/python3.7/site-packages/sklearn/cross_decomposition/pls_.py:360: DeprecationWarning: scipy.linalg.pinv2 is deprecated since SciPy 1.7.0, use scipy.linalg.pinv instead\n",
      "  check_finite=False))\n",
      "/Users/kfwm779/miniconda/envs/Optuna_AZ/lib/python3.7/site-packages/sklearn/cross_decomposition/pls_.py:360: DeprecationWarning: scipy.linalg.pinv2 is deprecated since SciPy 1.7.0, use scipy.linalg.pinv instead\n",
      "  check_finite=False))\n",
      "/Users/kfwm779/miniconda/envs/Optuna_AZ/lib/python3.7/site-packages/sklearn/cross_decomposition/pls_.py:360: DeprecationWarning: scipy.linalg.pinv2 is deprecated since SciPy 1.7.0, use scipy.linalg.pinv instead\n",
      "  check_finite=False))\n",
      "/Users/kfwm779/miniconda/envs/Optuna_AZ/lib/python3.7/site-packages/sklearn/cross_decomposition/pls_.py:360: DeprecationWarning: scipy.linalg.pinv2 is deprecated since SciPy 1.7.0, use scipy.linalg.pinv instead\n",
      "  check_finite=False))\n",
      "/Users/kfwm779/miniconda/envs/Optuna_AZ/lib/python3.7/site-packages/sklearn/cross_decomposition/pls_.py:360: DeprecationWarning: scipy.linalg.pinv2 is deprecated since SciPy 1.7.0, use scipy.linalg.pinv instead\n",
      "  check_finite=False))\n",
      "/Users/kfwm779/miniconda/envs/Optuna_AZ/lib/python3.7/site-packages/sklearn/cross_decomposition/pls_.py:360: DeprecationWarning: scipy.linalg.pinv2 is deprecated since SciPy 1.7.0, use scipy.linalg.pinv instead\n",
      "  check_finite=False))\n"
     ]
    },
    {
     "name": "stderr",
     "output_type": "stream",
     "text": [
      "/Users/kfwm779/miniconda/envs/Optuna_AZ/lib/python3.7/site-packages/sklearn/cross_decomposition/pls_.py:360: DeprecationWarning: scipy.linalg.pinv2 is deprecated since SciPy 1.7.0, use scipy.linalg.pinv instead\n",
      "  check_finite=False))\n",
      "/Users/kfwm779/miniconda/envs/Optuna_AZ/lib/python3.7/site-packages/sklearn/cross_decomposition/pls_.py:360: DeprecationWarning: scipy.linalg.pinv2 is deprecated since SciPy 1.7.0, use scipy.linalg.pinv instead\n",
      "  check_finite=False))\n",
      "/Users/kfwm779/miniconda/envs/Optuna_AZ/lib/python3.7/site-packages/sklearn/linear_model/coordinate_descent.py:475: ConvergenceWarning: Objective did not converge. You might want to increase the number of iterations. Duality gap: 94.65657648848655, tolerance: 18.69977074335155\n",
      "  positive)\n",
      "/Users/kfwm779/miniconda/envs/Optuna_AZ/lib/python3.7/site-packages/sklearn/linear_model/coordinate_descent.py:475: ConvergenceWarning: Objective did not converge. You might want to increase the number of iterations. Duality gap: 35.886958102327306, tolerance: 19.272386478151564\n",
      "  positive)\n",
      "/Users/kfwm779/miniconda/envs/Optuna_AZ/lib/python3.7/site-packages/sklearn/cross_decomposition/pls_.py:360: DeprecationWarning: scipy.linalg.pinv2 is deprecated since SciPy 1.7.0, use scipy.linalg.pinv instead\n",
      "  check_finite=False))\n",
      "/Users/kfwm779/miniconda/envs/Optuna_AZ/lib/python3.7/site-packages/sklearn/cross_decomposition/pls_.py:360: DeprecationWarning: scipy.linalg.pinv2 is deprecated since SciPy 1.7.0, use scipy.linalg.pinv instead\n",
      "  check_finite=False))\n",
      "/Users/kfwm779/miniconda/envs/Optuna_AZ/lib/python3.7/site-packages/sklearn/cross_decomposition/pls_.py:360: DeprecationWarning: scipy.linalg.pinv2 is deprecated since SciPy 1.7.0, use scipy.linalg.pinv instead\n",
      "  check_finite=False))\n",
      "/Users/kfwm779/miniconda/envs/Optuna_AZ/lib/python3.7/site-packages/sklearn/linear_model/coordinate_descent.py:475: ConvergenceWarning: Objective did not converge. You might want to increase the number of iterations. Duality gap: 84.83644591365827, tolerance: 18.69977074335155\n",
      "  positive)\n",
      "/Users/kfwm779/miniconda/envs/Optuna_AZ/lib/python3.7/site-packages/sklearn/linear_model/coordinate_descent.py:475: ConvergenceWarning: Objective did not converge. You might want to increase the number of iterations. Duality gap: 59.62407164122982, tolerance: 17.5840422902471\n",
      "  positive)\n"
     ]
    }
   ],
   "source": [
    "study = optimize(config, study_name=\"my_study_stratified_split\")"
   ]
  },
  {
   "cell_type": "markdown",
   "metadata": {},
   "source": [
    "## Choosing scoring function"
   ]
  },
  {
   "cell_type": "markdown",
   "metadata": {},
   "source": [
    "By default, QPTUNA uses `r2` for regression and `roc_auc` for classification. It is possible to change to other scoring functions that are supported by scikit-learn (https://scikit-learn.org/stable/modules/model_evaluation.html):"
   ]
  },
  {
   "cell_type": "code",
   "execution_count": 23,
   "metadata": {},
   "outputs": [
    {
     "data": {
      "text/plain": [
       "['accuracy',\n",
       " 'adjusted_mutual_info_score',\n",
       " 'adjusted_rand_score',\n",
       " 'average_precision',\n",
       " 'balanced_accuracy',\n",
       " 'brier_score_loss',\n",
       " 'completeness_score',\n",
       " 'explained_variance',\n",
       " 'f1',\n",
       " 'f1_macro',\n",
       " 'f1_micro',\n",
       " 'f1_samples',\n",
       " 'f1_weighted',\n",
       " 'fowlkes_mallows_score',\n",
       " 'homogeneity_score',\n",
       " 'jaccard',\n",
       " 'jaccard_macro',\n",
       " 'jaccard_micro',\n",
       " 'jaccard_samples',\n",
       " 'jaccard_weighted',\n",
       " 'max_error',\n",
       " 'mutual_info_score',\n",
       " 'neg_log_loss',\n",
       " 'neg_mean_absolute_error',\n",
       " 'neg_mean_squared_error',\n",
       " 'neg_mean_squared_log_error',\n",
       " 'neg_median_absolute_error',\n",
       " 'normalized_mutual_info_score',\n",
       " 'precision',\n",
       " 'precision_macro',\n",
       " 'precision_micro',\n",
       " 'precision_samples',\n",
       " 'precision_weighted',\n",
       " 'r2',\n",
       " 'recall',\n",
       " 'recall_macro',\n",
       " 'recall_micro',\n",
       " 'recall_samples',\n",
       " 'recall_weighted',\n",
       " 'roc_auc',\n",
       " 'v_measure_score']"
      ]
     },
     "execution_count": 23,
     "metadata": {},
     "output_type": "execute_result"
    }
   ],
   "source": [
    "import sklearn\n",
    "sorted(sklearn.metrics.SCORERS.keys())"
   ]
  },
  {
   "cell_type": "markdown",
   "metadata": {},
   "source": [
    "This value can be set using `settings.scoring`:"
   ]
  },
  {
   "cell_type": "code",
   "execution_count": 26,
   "metadata": {},
   "outputs": [],
   "source": [
    "config = OptimizationConfig(\n",
    "    data=Dataset(\n",
    "        input_column=\"canonical\",\n",
    "        response_column=\"molwt\",\n",
    "        training_dataset_file=\"../tests/data/DRD2/subset-100/train.csv\",\n",
    "    ),\n",
    "    descriptors=[\n",
    "        ECFP.new(), \n",
    "        ECFP_counts.new(), \n",
    "        MACCS_keys.new(),\n",
    "    ],\n",
    "    algorithms=[\n",
    "        SVR.new(),\n",
    "        RandomForestRegressor.new(n_estimators={\"low\": 5, \"high\": 10}),\n",
    "        Ridge.new(),\n",
    "        Lasso.new(),\n",
    "        PLSRegression.new(),\n",
    "        XGBRegressor.new(),\n",
    "    ],\n",
    "    settings=OptimizationConfig.Settings(\n",
    "        mode=ModelMode.REGRESSION,\n",
    "        cross_validation=3,\n",
    "        n_trials=100,\n",
    "        n_startup_trials=50,\n",
    "        scoring=\"neg_mean_squared_error\",  # Scoring function name from scikit-learn.\n",
    "        direction=OptimizationDirection.MAXIMIZATION,\n",
    "        track_to_mlflow=False,\n",
    "    ),\n",
    ") "
   ]
  },
  {
   "cell_type": "code",
   "execution_count": 27,
   "metadata": {},
   "outputs": [
    {
     "name": "stderr",
     "output_type": "stream",
     "text": [
      "\u001B[32m[I 2021-11-04 13:39:00,090]\u001B[0m A new study created in memory with name: my_study_rmse\u001B[0m\n",
      "\u001B[32m[I 2021-11-04 13:39:00,649]\u001B[0m Trial 0 finished with value: -4522.32919205447 and parameters: {'algorithm_name': 'PLSRegression', 'n_components': 2, 'descriptor': '{\"name\": \"ECFP_counts\", \"parameters\": {\"radius\": 3, \"useFeatures\": true, \"nBits\": 2048}}'}. Best is trial 0 with value: -4522.32919205447.\u001B[0m\n",
      "\u001B[32m[I 2021-11-04 13:39:01,374]\u001B[0m Trial 1 finished with value: -715.4584859470755 and parameters: {'algorithm_name': 'Lasso', 'alpha': 1.8198822526980634, 'descriptor': '{\"name\": \"ECFP_counts\", \"parameters\": {\"radius\": 3, \"useFeatures\": true, \"nBits\": 2048}}'}. Best is trial 1 with value: -715.4584859470755.\u001B[0m\n",
      "\u001B[32m[I 2021-11-04 13:39:01,503]\u001B[0m Trial 2 finished with value: -695.3103946803325 and parameters: {'algorithm_name': 'Lasso', 'alpha': 1.3355890186137238, 'descriptor': '{\"name\": \"ECFP_counts\", \"parameters\": {\"radius\": 3, \"useFeatures\": true, \"nBits\": 2048}}'}. Best is trial 2 with value: -695.3103946803325.\u001B[0m\n",
      "\u001B[32m[I 2021-11-04 13:39:01,710]\u001B[0m Trial 3 finished with value: -6380.097122447381 and parameters: {'algorithm_name': 'SVR', 'gamma': 0.003731245147236482, 'C': 1.2487971034352536e-06, 'descriptor': '{\"name\": \"ECFP_counts\", \"parameters\": {\"radius\": 3, \"useFeatures\": true, \"nBits\": 2048}}'}. Best is trial 2 with value: -695.3103946803325.\u001B[0m\n",
      "\u001B[32m[I 2021-11-04 13:39:05,321]\u001B[0m Trial 4 finished with value: -3153.7672508744813 and parameters: {'algorithm_name': 'XGBRegressor', 'max_depth': 22, 'n_estimators': 226, 'learning_rate': 0.1, 'descriptor': '{\"name\": \"ECFP_counts\", \"parameters\": {\"radius\": 3, \"useFeatures\": true, \"nBits\": 2048}}'}. Best is trial 2 with value: -695.3103946803325.\u001B[0m\n",
      "\u001B[32m[I 2021-11-04 13:39:06,390]\u001B[0m Trial 5 finished with value: -3607.1612242372926 and parameters: {'algorithm_name': 'XGBRegressor', 'max_depth': 10, 'n_estimators': 206, 'learning_rate': 0.1, 'descriptor': '{\"name\": \"MACCS_keys\", \"parameters\": {}}'}. Best is trial 2 with value: -695.3103946803325.\u001B[0m\n",
      "\u001B[32m[I 2021-11-04 13:39:08,520]\u001B[0m Trial 6 finished with value: -3071.579569206159 and parameters: {'algorithm_name': 'XGBRegressor', 'max_depth': 9, 'n_estimators': 205, 'learning_rate': 0.1, 'descriptor': '{\"name\": \"ECFP_counts\", \"parameters\": {\"radius\": 3, \"useFeatures\": true, \"nBits\": 2048}}'}. Best is trial 2 with value: -695.3103946803325.\u001B[0m\n",
      "\u001B[32m[I 2021-11-04 13:39:08,736]\u001B[0m Trial 7 finished with value: -6380.0975746316 and parameters: {'algorithm_name': 'SVR', 'gamma': 0.008855442579363201, 'C': 1.1620659136669106e-09, 'descriptor': '{\"name\": \"ECFP_counts\", \"parameters\": {\"radius\": 3, \"useFeatures\": true, \"nBits\": 2048}}'}. Best is trial 2 with value: -695.3103946803325.\u001B[0m\n",
      "\u001B[32m[I 2021-11-04 13:39:09,250]\u001B[0m Trial 8 finished with value: -4460.583296320976 and parameters: {'algorithm_name': 'PLSRegression', 'n_components': 5, 'descriptor': '{\"name\": \"ECFP_counts\", \"parameters\": {\"radius\": 3, \"useFeatures\": true, \"nBits\": 2048}}'}. Best is trial 2 with value: -695.3103946803325.\u001B[0m\n",
      "\u001B[32m[I 2021-11-04 13:39:09,364]\u001B[0m Trial 9 finished with value: -713.9001880010952 and parameters: {'algorithm_name': 'Ridge', 'alpha': 0.3355552693289865, 'descriptor': '{\"name\": \"ECFP_counts\", \"parameters\": {\"radius\": 3, \"useFeatures\": true, \"nBits\": 2048}}'}. Best is trial 2 with value: -695.3103946803325.\u001B[0m\n",
      "\u001B[32m[I 2021-11-04 13:39:10,343]\u001B[0m Trial 10 finished with value: -3158.1460011516015 and parameters: {'algorithm_name': 'XGBRegressor', 'max_depth': 28, 'n_estimators': 69, 'learning_rate': 0.1, 'descriptor': '{\"name\": \"ECFP_counts\", \"parameters\": {\"radius\": 3, \"useFeatures\": true, \"nBits\": 2048}}'}. Best is trial 2 with value: -695.3103946803325.\u001B[0m\n",
      "\u001B[32m[I 2021-11-04 13:39:10,480]\u001B[0m Trial 11 finished with value: -5096.504730040163 and parameters: {'algorithm_name': 'Lasso', 'alpha': 0.23895128596855653, 'descriptor': '{\"name\": \"ECFP\", \"parameters\": {\"radius\": 3, \"nBits\": 2048}}'}. Best is trial 2 with value: -695.3103946803325.\u001B[0m\n",
      "\u001B[32m[I 2021-11-04 13:39:10,822]\u001B[0m Trial 12 finished with value: -5633.448489196318 and parameters: {'algorithm_name': 'RandomForestRegressor', 'max_depth': 22, 'n_estimators': 6, 'max_features': <RandomForestMaxFeatures.AUTO: 'auto'>, 'descriptor': '{\"name\": \"ECFP\", \"parameters\": {\"radius\": 3, \"nBits\": 2048}}'}. Best is trial 2 with value: -695.3103946803325.\u001B[0m\n",
      "\u001B[32m[I 2021-11-04 13:39:11,060]\u001B[0m Trial 13 finished with value: -6380.097574996594 and parameters: {'algorithm_name': 'SVR', 'gamma': 0.235667314368033, 'C': 2.6311524083813187e-08, 'descriptor': '{\"name\": \"ECFP_counts\", \"parameters\": {\"radius\": 3, \"useFeatures\": true, \"nBits\": 2048}}'}. Best is trial 2 with value: -695.3103946803325.\u001B[0m\n",
      "\u001B[32m[I 2021-11-04 13:39:11,291]\u001B[0m Trial 14 finished with value: -6380.097574996594 and parameters: {'algorithm_name': 'SVR', 'gamma': 69.26688016883868, 'C': 1.327527175213007e-07, 'descriptor': '{\"name\": \"ECFP_counts\", \"parameters\": {\"radius\": 3, \"useFeatures\": true, \"nBits\": 2048}}'}. Best is trial 2 with value: -695.3103946803325.\u001B[0m\n",
      "\u001B[32m[I 2021-11-04 13:39:12,806]\u001B[0m Trial 15 finished with value: -5350.083022215178 and parameters: {'algorithm_name': 'XGBRegressor', 'max_depth': 4, 'n_estimators': 211, 'learning_rate': 0.1, 'descriptor': '{\"name\": \"ECFP\", \"parameters\": {\"radius\": 3, \"nBits\": 2048}}'}. Best is trial 2 with value: -695.3103946803325.\u001B[0m\n",
      "\u001B[32m[I 2021-11-04 13:39:12,995]\u001B[0m Trial 16 finished with value: -2635.38055277059 and parameters: {'algorithm_name': 'RandomForestRegressor', 'max_depth': 11, 'n_estimators': 9, 'max_features': <RandomForestMaxFeatures.AUTO: 'auto'>, 'descriptor': '{\"name\": \"ECFP_counts\", \"parameters\": {\"radius\": 3, \"useFeatures\": true, \"nBits\": 2048}}'}. Best is trial 2 with value: -695.3103946803325.\u001B[0m\n",
      "\u001B[32m[I 2021-11-04 13:39:15,501]\u001B[0m Trial 17 finished with value: -3153.766611564731 and parameters: {'algorithm_name': 'XGBRegressor', 'max_depth': 23, 'n_estimators': 186, 'learning_rate': 0.1, 'descriptor': '{\"name\": \"ECFP_counts\", \"parameters\": {\"radius\": 3, \"useFeatures\": true, \"nBits\": 2048}}'}. Best is trial 2 with value: -695.3103946803325.\u001B[0m\n",
      "\u001B[32m[I 2021-11-04 13:39:15,616]\u001B[0m Trial 18 finished with value: -4522.32919205447 and parameters: {'algorithm_name': 'PLSRegression', 'n_components': 2, 'descriptor': '{\"name\": \"ECFP_counts\", \"parameters\": {\"radius\": 3, \"useFeatures\": true, \"nBits\": 2048}}'}. Best is trial 2 with value: -695.3103946803325.\u001B[0m\n",
      "\u001B[32m[I 2021-11-04 13:39:15,696]\u001B[0m Trial 19 finished with value: -4135.181246442532 and parameters: {'algorithm_name': 'Ridge', 'alpha': 1.307463060009706, 'descriptor': '{\"name\": \"ECFP\", \"parameters\": {\"radius\": 3, \"nBits\": 2048}}'}. Best is trial 2 with value: -695.3103946803325.\u001B[0m\n",
      "\u001B[32m[I 2021-11-04 13:39:16,746]\u001B[0m Trial 20 finished with value: -2339.6958741787416 and parameters: {'algorithm_name': 'XGBRegressor', 'max_depth': 3, 'n_estimators': 206, 'learning_rate': 0.1, 'descriptor': '{\"name\": \"ECFP_counts\", \"parameters\": {\"radius\": 3, \"useFeatures\": true, \"nBits\": 2048}}'}. Best is trial 2 with value: -695.3103946803325.\u001B[0m\n",
      "\u001B[32m[I 2021-11-04 13:39:17,070]\u001B[0m Trial 21 finished with value: -6598.645002194508 and parameters: {'algorithm_name': 'XGBRegressor', 'max_depth': 11, 'n_estimators': 27, 'learning_rate': 0.1, 'descriptor': '{\"name\": \"ECFP\", \"parameters\": {\"radius\": 3, \"nBits\": 2048}}'}. Best is trial 2 with value: -695.3103946803325.\u001B[0m\n",
      "\u001B[32m[I 2021-11-04 13:39:17,182]\u001B[0m Trial 22 finished with value: -703.9846050414982 and parameters: {'algorithm_name': 'Lasso', 'alpha': 1.497625262280325, 'descriptor': '{\"name\": \"ECFP_counts\", \"parameters\": {\"radius\": 3, \"useFeatures\": true, \"nBits\": 2048}}'}. Best is trial 2 with value: -695.3103946803325.\u001B[0m\n",
      "\u001B[32m[I 2021-11-04 13:39:17,382]\u001B[0m Trial 23 finished with value: -4097.527457261584 and parameters: {'algorithm_name': 'RandomForestRegressor', 'max_depth': 21, 'n_estimators': 6, 'max_features': <RandomForestMaxFeatures.AUTO: 'auto'>, 'descriptor': '{\"name\": \"MACCS_keys\", \"parameters\": {}}'}. Best is trial 2 with value: -695.3103946803325.\u001B[0m\n",
      "\u001B[32m[I 2021-11-04 13:39:17,532]\u001B[0m Trial 24 finished with value: -3102.4117177406465 and parameters: {'algorithm_name': 'RandomForestRegressor', 'max_depth': 5, 'n_estimators': 8, 'max_features': <RandomForestMaxFeatures.AUTO: 'auto'>, 'descriptor': '{\"name\": \"ECFP_counts\", \"parameters\": {\"radius\": 3, \"useFeatures\": true, \"nBits\": 2048}}'}. Best is trial 2 with value: -695.3103946803325.\u001B[0m\n"
     ]
    },
    {
     "name": "stderr",
     "output_type": "stream",
     "text": [
      "\u001B[32m[I 2021-11-04 13:39:17,734]\u001B[0m Trial 25 finished with value: -6385.799403308432 and parameters: {'algorithm_name': 'SVR', 'gamma': 0.19945599853384313, 'C': 3.8943649528251663, 'descriptor': '{\"name\": \"ECFP_counts\", \"parameters\": {\"radius\": 3, \"useFeatures\": true, \"nBits\": 2048}}'}. Best is trial 2 with value: -695.3103946803325.\u001B[0m\n",
      "\u001B[32m[I 2021-11-04 13:39:17,929]\u001B[0m Trial 26 finished with value: -6380.0954347649395 and parameters: {'algorithm_name': 'SVR', 'gamma': 0.08622922160791371, 'C': 0.010977930771846108, 'descriptor': '{\"name\": \"ECFP_counts\", \"parameters\": {\"radius\": 3, \"useFeatures\": true, \"nBits\": 2048}}'}. Best is trial 2 with value: -695.3103946803325.\u001B[0m\n",
      "\u001B[32m[I 2021-11-04 13:39:18,085]\u001B[0m Trial 27 finished with value: -2802.907959386903 and parameters: {'algorithm_name': 'Lasso', 'alpha': 0.6017372034117843, 'descriptor': '{\"name\": \"MACCS_keys\", \"parameters\": {}}'}. Best is trial 2 with value: -695.3103946803325.\u001B[0m\n",
      "\u001B[32m[I 2021-11-04 13:39:18,222]\u001B[0m Trial 28 finished with value: -3569.689630365094 and parameters: {'algorithm_name': 'RandomForestRegressor', 'max_depth': 13, 'n_estimators': 6, 'max_features': <RandomForestMaxFeatures.AUTO: 'auto'>, 'descriptor': '{\"name\": \"ECFP_counts\", \"parameters\": {\"radius\": 3, \"useFeatures\": true, \"nBits\": 2048}}'}. Best is trial 2 with value: -695.3103946803325.\u001B[0m\n",
      "\u001B[32m[I 2021-11-04 13:39:18,367]\u001B[0m Trial 29 finished with value: -3386.220129220607 and parameters: {'algorithm_name': 'RandomForestRegressor', 'max_depth': 30, 'n_estimators': 9, 'max_features': <RandomForestMaxFeatures.AUTO: 'auto'>, 'descriptor': '{\"name\": \"ECFP_counts\", \"parameters\": {\"radius\": 3, \"useFeatures\": true, \"nBits\": 2048}}'}. Best is trial 2 with value: -695.3103946803325.\u001B[0m\n",
      "\u001B[32m[I 2021-11-04 13:39:18,576]\u001B[0m Trial 30 finished with value: -3604.6097616293714 and parameters: {'algorithm_name': 'XGBRegressor', 'max_depth': 8, 'n_estimators': 59, 'learning_rate': 0.1, 'descriptor': '{\"name\": \"MACCS_keys\", \"parameters\": {}}'}. Best is trial 2 with value: -695.3103946803325.\u001B[0m\n",
      "\u001B[32m[I 2021-11-04 13:39:18,917]\u001B[0m Trial 31 finished with value: -6529.674363494276 and parameters: {'algorithm_name': 'XGBRegressor', 'max_depth': 10, 'n_estimators': 30, 'learning_rate': 0.1, 'descriptor': '{\"name\": \"ECFP\", \"parameters\": {\"radius\": 3, \"nBits\": 2048}}'}. Best is trial 2 with value: -695.3103946803325.\u001B[0m\n",
      "\u001B[32m[I 2021-11-04 13:39:19,104]\u001B[0m Trial 32 finished with value: -6378.832479844903 and parameters: {'algorithm_name': 'SVR', 'gamma': 0.0010466443962002564, 'C': 0.0643733598637877, 'descriptor': '{\"name\": \"MACCS_keys\", \"parameters\": {}}'}. Best is trial 2 with value: -695.3103946803325.\u001B[0m\n",
      "\u001B[32m[I 2021-11-04 13:39:19,310]\u001B[0m Trial 33 finished with value: -4191.986657834091 and parameters: {'algorithm_name': 'RandomForestRegressor', 'max_depth': 19, 'n_estimators': 6, 'max_features': <RandomForestMaxFeatures.AUTO: 'auto'>, 'descriptor': '{\"name\": \"MACCS_keys\", \"parameters\": {}}'}. Best is trial 2 with value: -695.3103946803325.\u001B[0m\n",
      "\u001B[32m[I 2021-11-04 13:39:19,455]\u001B[0m Trial 34 finished with value: -2754.0024662006417 and parameters: {'algorithm_name': 'RandomForestRegressor', 'max_depth': 22, 'n_estimators': 7, 'max_features': <RandomForestMaxFeatures.AUTO: 'auto'>, 'descriptor': '{\"name\": \"ECFP_counts\", \"parameters\": {\"radius\": 3, \"useFeatures\": true, \"nBits\": 2048}}'}. Best is trial 2 with value: -695.3103946803325.\u001B[0m\n",
      "\u001B[32m[I 2021-11-04 13:39:19,528]\u001B[0m Trial 35 finished with value: -4138.1833198901195 and parameters: {'algorithm_name': 'Ridge', 'alpha': 1.4903007102167392, 'descriptor': '{\"name\": \"ECFP\", \"parameters\": {\"radius\": 3, \"nBits\": 2048}}'}. Best is trial 2 with value: -695.3103946803325.\u001B[0m\n",
      "\u001B[32m[I 2021-11-04 13:39:19,678]\u001B[0m Trial 36 finished with value: -3617.412307452713 and parameters: {'algorithm_name': 'Ridge', 'alpha': 1.220254992615643, 'descriptor': '{\"name\": \"MACCS_keys\", \"parameters\": {}}'}. Best is trial 2 with value: -695.3103946803325.\u001B[0m\n",
      "\u001B[32m[I 2021-11-04 13:39:19,815]\u001B[0m Trial 37 finished with value: -3844.818915949825 and parameters: {'algorithm_name': 'PLSRegression', 'n_components': 5, 'descriptor': '{\"name\": \"MACCS_keys\", \"parameters\": {}}'}. Best is trial 2 with value: -695.3103946803325.\u001B[0m\n",
      "\u001B[32m[I 2021-11-04 13:39:19,911]\u001B[0m Trial 38 finished with value: -4440.134292648249 and parameters: {'algorithm_name': 'PLSRegression', 'n_components': 3, 'descriptor': '{\"name\": \"ECFP_counts\", \"parameters\": {\"radius\": 3, \"useFeatures\": true, \"nBits\": 2048}}'}. Best is trial 2 with value: -695.3103946803325.\u001B[0m\n",
      "\u001B[32m[I 2021-11-04 13:39:20,099]\u001B[0m Trial 39 finished with value: -6380.008364017644 and parameters: {'algorithm_name': 'SVR', 'gamma': 0.0017391476248784996, 'C': 0.000343177232810985, 'descriptor': '{\"name\": \"ECFP_counts\", \"parameters\": {\"radius\": 3, \"useFeatures\": true, \"nBits\": 2048}}'}. Best is trial 2 with value: -695.3103946803325.\u001B[0m\n",
      "\u001B[32m[I 2021-11-04 13:39:20,178]\u001B[0m Trial 40 finished with value: -4768.765763084936 and parameters: {'algorithm_name': 'Lasso', 'alpha': 1.167562428495395, 'descriptor': '{\"name\": \"ECFP\", \"parameters\": {\"radius\": 3, \"nBits\": 2048}}'}. Best is trial 2 with value: -695.3103946803325.\u001B[0m\n",
      "\u001B[32m[I 2021-11-04 13:39:20,318]\u001B[0m Trial 41 finished with value: -3235.474848084749 and parameters: {'algorithm_name': 'RandomForestRegressor', 'max_depth': 31, 'n_estimators': 6, 'max_features': <RandomForestMaxFeatures.AUTO: 'auto'>, 'descriptor': '{\"name\": \"ECFP_counts\", \"parameters\": {\"radius\": 3, \"useFeatures\": true, \"nBits\": 2048}}'}. Best is trial 2 with value: -695.3103946803325.\u001B[0m\n",
      "\u001B[32m[I 2021-11-04 13:39:20,467]\u001B[0m Trial 42 finished with value: -3615.9273761978716 and parameters: {'algorithm_name': 'PLSRegression', 'n_components': 4, 'descriptor': '{\"name\": \"MACCS_keys\", \"parameters\": {}}'}. Best is trial 2 with value: -695.3103946803325.\u001B[0m\n",
      "\u001B[32m[I 2021-11-04 13:39:20,608]\u001B[0m Trial 43 finished with value: -2501.592984778345 and parameters: {'algorithm_name': 'Lasso', 'alpha': 1.942165068178701, 'descriptor': '{\"name\": \"MACCS_keys\", \"parameters\": {}}'}. Best is trial 2 with value: -695.3103946803325.\u001B[0m\n",
      "\u001B[32m[I 2021-11-04 13:39:20,746]\u001B[0m Trial 44 finished with value: -5435.201115703207 and parameters: {'algorithm_name': 'RandomForestRegressor', 'max_depth': 17, 'n_estimators': 9, 'max_features': <RandomForestMaxFeatures.AUTO: 'auto'>, 'descriptor': '{\"name\": \"ECFP\", \"parameters\": {\"radius\": 3, \"nBits\": 2048}}'}. Best is trial 2 with value: -695.3103946803325.\u001B[0m\n",
      "\u001B[32m[I 2021-11-04 13:39:20,898]\u001B[0m Trial 45 finished with value: -3506.9404772176927 and parameters: {'algorithm_name': 'Ridge', 'alpha': 1.6154196719556957, 'descriptor': '{\"name\": \"MACCS_keys\", \"parameters\": {}}'}. Best is trial 2 with value: -695.3103946803325.\u001B[0m\n",
      "\u001B[32m[I 2021-11-04 13:39:21,435]\u001B[0m Trial 46 finished with value: -3588.4107613914694 and parameters: {'algorithm_name': 'XGBRegressor', 'max_depth': 12, 'n_estimators': 244, 'learning_rate': 0.1, 'descriptor': '{\"name\": \"MACCS_keys\", \"parameters\": {}}'}. Best is trial 2 with value: -695.3103946803325.\u001B[0m\n",
      "\u001B[32m[I 2021-11-04 13:39:21,588]\u001B[0m Trial 47 finished with value: -3844.818915949825 and parameters: {'algorithm_name': 'PLSRegression', 'n_components': 5, 'descriptor': '{\"name\": \"MACCS_keys\", \"parameters\": {}}'}. Best is trial 2 with value: -695.3103946803325.\u001B[0m\n",
      "\u001B[32m[I 2021-11-04 13:39:21,702]\u001B[0m Trial 48 finished with value: -710.1501071953172 and parameters: {'algorithm_name': 'Lasso', 'alpha': 1.674090868614853, 'descriptor': '{\"name\": \"ECFP_counts\", \"parameters\": {\"radius\": 3, \"useFeatures\": true, \"nBits\": 2048}}'}. Best is trial 2 with value: -695.3103946803325.\u001B[0m\n",
      "\u001B[32m[I 2021-11-04 13:39:21,910]\u001B[0m Trial 49 finished with value: -6380.097574996594 and parameters: {'algorithm_name': 'SVR', 'gamma': 66.11916997664763, 'C': 0.005340814396768345, 'descriptor': '{\"name\": \"ECFP_counts\", \"parameters\": {\"radius\": 3, \"useFeatures\": true, \"nBits\": 2048}}'}. Best is trial 2 with value: -695.3103946803325.\u001B[0m\n",
      "\u001B[32m[I 2021-11-04 13:39:22,024]\u001B[0m Trial 50 finished with value: -714.7997977773375 and parameters: {'algorithm_name': 'Lasso', 'alpha': 1.8043104761443045, 'descriptor': '{\"name\": \"ECFP_counts\", \"parameters\": {\"radius\": 3, \"useFeatures\": true, \"nBits\": 2048}}'}. Best is trial 2 with value: -695.3103946803325.\u001B[0m\n"
     ]
    },
    {
     "name": "stderr",
     "output_type": "stream",
     "text": [
      "\u001B[32m[I 2021-11-04 13:39:22,141]\u001B[0m Trial 51 finished with value: -714.9713628764683 and parameters: {'algorithm_name': 'Lasso', 'alpha': 1.808417232311313, 'descriptor': '{\"name\": \"ECFP_counts\", \"parameters\": {\"radius\": 3, \"useFeatures\": true, \"nBits\": 2048}}'}. Best is trial 2 with value: -695.3103946803325.\u001B[0m\n",
      "\u001B[32m[I 2021-11-04 13:39:22,243]\u001B[0m Trial 52 finished with value: -711.6786497352796 and parameters: {'algorithm_name': 'Lasso', 'alpha': 1.720804286950211, 'descriptor': '{\"name\": \"ECFP_counts\", \"parameters\": {\"radius\": 3, \"useFeatures\": true, \"nBits\": 2048}}'}. Best is trial 2 with value: -695.3103946803325.\u001B[0m\n",
      "\u001B[32m[I 2021-11-04 13:39:22,338]\u001B[0m Trial 53 finished with value: -707.3246591975536 and parameters: {'algorithm_name': 'Lasso', 'alpha': 1.5862284213403506, 'descriptor': '{\"name\": \"ECFP_counts\", \"parameters\": {\"radius\": 3, \"useFeatures\": true, \"nBits\": 2048}}'}. Best is trial 2 with value: -695.3103946803325.\u001B[0m\n",
      "\u001B[32m[I 2021-11-04 13:39:22,432]\u001B[0m Trial 54 finished with value: -705.014782642448 and parameters: {'algorithm_name': 'Lasso', 'alpha': 1.5207467895631417, 'descriptor': '{\"name\": \"ECFP_counts\", \"parameters\": {\"radius\": 3, \"useFeatures\": true, \"nBits\": 2048}}'}. Best is trial 2 with value: -695.3103946803325.\u001B[0m\n",
      "\u001B[32m[I 2021-11-04 13:39:22,541]\u001B[0m Trial 55 finished with value: -704.3601314676854 and parameters: {'algorithm_name': 'Lasso', 'alpha': 1.5065185520257476, 'descriptor': '{\"name\": \"ECFP_counts\", \"parameters\": {\"radius\": 3, \"useFeatures\": true, \"nBits\": 2048}}'}. Best is trial 2 with value: -695.3103946803325.\u001B[0m\n",
      "\u001B[32m[I 2021-11-04 13:39:22,635]\u001B[0m Trial 56 finished with value: -702.8914821006434 and parameters: {'algorithm_name': 'Lasso', 'alpha': 1.4689285202655968, 'descriptor': '{\"name\": \"ECFP_counts\", \"parameters\": {\"radius\": 3, \"useFeatures\": true, \"nBits\": 2048}}'}. Best is trial 2 with value: -695.3103946803325.\u001B[0m\n",
      "\u001B[32m[I 2021-11-04 13:39:22,734]\u001B[0m Trial 57 finished with value: -701.3433902498123 and parameters: {'algorithm_name': 'Lasso', 'alpha': 1.4317938271797985, 'descriptor': '{\"name\": \"ECFP_counts\", \"parameters\": {\"radius\": 3, \"useFeatures\": true, \"nBits\": 2048}}'}. Best is trial 2 with value: -695.3103946803325.\u001B[0m\n",
      "\u001B[32m[I 2021-11-04 13:39:22,850]\u001B[0m Trial 58 finished with value: -700.0133917638819 and parameters: {'algorithm_name': 'Lasso', 'alpha': 1.4094043177323015, 'descriptor': '{\"name\": \"ECFP_counts\", \"parameters\": {\"radius\": 3, \"useFeatures\": true, \"nBits\": 2048}}'}. Best is trial 2 with value: -695.3103946803325.\u001B[0m\n",
      "\u001B[32m[I 2021-11-04 13:39:22,964]\u001B[0m Trial 59 finished with value: -697.1996989536589 and parameters: {'algorithm_name': 'Lasso', 'alpha': 1.363296557228741, 'descriptor': '{\"name\": \"ECFP_counts\", \"parameters\": {\"radius\": 3, \"useFeatures\": true, \"nBits\": 2048}}'}. Best is trial 2 with value: -695.3103946803325.\u001B[0m\n",
      "\u001B[32m[I 2021-11-04 13:39:23,068]\u001B[0m Trial 60 finished with value: -693.1125567086929 and parameters: {'algorithm_name': 'Lasso', 'alpha': 1.3006858345664163, 'descriptor': '{\"name\": \"ECFP_counts\", \"parameters\": {\"radius\": 3, \"useFeatures\": true, \"nBits\": 2048}}'}. Best is trial 60 with value: -693.1125567086929.\u001B[0m\n",
      "\u001B[32m[I 2021-11-04 13:39:23,171]\u001B[0m Trial 61 finished with value: -695.9866517027509 and parameters: {'algorithm_name': 'Lasso', 'alpha': 1.3457410918694812, 'descriptor': '{\"name\": \"ECFP_counts\", \"parameters\": {\"radius\": 3, \"useFeatures\": true, \"nBits\": 2048}}'}. Best is trial 60 with value: -693.1125567086929.\u001B[0m\n",
      "\u001B[32m[I 2021-11-04 13:39:23,285]\u001B[0m Trial 62 finished with value: -693.7893383553628 and parameters: {'algorithm_name': 'Lasso', 'alpha': 1.3122925834846877, 'descriptor': '{\"name\": \"ECFP_counts\", \"parameters\": {\"radius\": 3, \"useFeatures\": true, \"nBits\": 2048}}'}. Best is trial 60 with value: -693.1125567086929.\u001B[0m\n",
      "\u001B[32m[I 2021-11-04 13:39:23,408]\u001B[0m Trial 63 finished with value: -686.200491702346 and parameters: {'algorithm_name': 'Lasso', 'alpha': 1.0309390362059276, 'descriptor': '{\"name\": \"ECFP_counts\", \"parameters\": {\"radius\": 3, \"useFeatures\": true, \"nBits\": 2048}}'}. Best is trial 63 with value: -686.200491702346.\u001B[0m\n",
      "\u001B[32m[I 2021-11-04 13:39:23,520]\u001B[0m Trial 64 finished with value: -686.7610987161032 and parameters: {'algorithm_name': 'Lasso', 'alpha': 0.967777506472385, 'descriptor': '{\"name\": \"ECFP_counts\", \"parameters\": {\"radius\": 3, \"useFeatures\": true, \"nBits\": 2048}}'}. Best is trial 63 with value: -686.200491702346.\u001B[0m\n",
      "\u001B[32m[I 2021-11-04 13:39:23,631]\u001B[0m Trial 65 finished with value: -688.1340759060012 and parameters: {'algorithm_name': 'Lasso', 'alpha': 0.9175608908774341, 'descriptor': '{\"name\": \"ECFP_counts\", \"parameters\": {\"radius\": 3, \"useFeatures\": true, \"nBits\": 2048}}'}. Best is trial 63 with value: -686.200491702346.\u001B[0m\n",
      "\u001B[32m[I 2021-11-04 13:39:23,728]\u001B[0m Trial 66 finished with value: -687.12000541658 and parameters: {'algorithm_name': 'Lasso', 'alpha': 0.9493068208770606, 'descriptor': '{\"name\": \"ECFP_counts\", \"parameters\": {\"radius\": 3, \"useFeatures\": true, \"nBits\": 2048}}'}. Best is trial 63 with value: -686.200491702346.\u001B[0m\n",
      "\u001B[32m[I 2021-11-04 13:39:23,824]\u001B[0m Trial 67 finished with value: -688.5410057296641 and parameters: {'algorithm_name': 'Lasso', 'alpha': 0.9078100731189409, 'descriptor': '{\"name\": \"ECFP_counts\", \"parameters\": {\"radius\": 3, \"useFeatures\": true, \"nBits\": 2048}}'}. Best is trial 63 with value: -686.200491702346.\u001B[0m\n",
      "\u001B[32m[I 2021-11-04 13:39:23,942]\u001B[0m Trial 68 finished with value: -689.3954946386515 and parameters: {'algorithm_name': 'Lasso', 'alpha': 0.8892627269244576, 'descriptor': '{\"name\": \"ECFP_counts\", \"parameters\": {\"radius\": 3, \"useFeatures\": true, \"nBits\": 2048}}'}. Best is trial 63 with value: -686.200491702346.\u001B[0m\n",
      "\u001B[32m[I 2021-11-04 13:39:24,051]\u001B[0m Trial 69 finished with value: -689.8616094004101 and parameters: {'algorithm_name': 'Lasso', 'alpha': 0.879254375739769, 'descriptor': '{\"name\": \"ECFP_counts\", \"parameters\": {\"radius\": 3, \"useFeatures\": true, \"nBits\": 2048}}'}. Best is trial 63 with value: -686.200491702346.\u001B[0m\n",
      "\u001B[32m[I 2021-11-04 13:39:24,163]\u001B[0m Trial 70 finished with value: -689.9329595386579 and parameters: {'algorithm_name': 'Lasso', 'alpha': 0.8775933295599561, 'descriptor': '{\"name\": \"ECFP_counts\", \"parameters\": {\"radius\": 3, \"useFeatures\": true, \"nBits\": 2048}}'}. Best is trial 63 with value: -686.200491702346.\u001B[0m\n",
      "\u001B[32m[I 2021-11-04 13:39:24,264]\u001B[0m Trial 71 finished with value: -688.1186528685125 and parameters: {'algorithm_name': 'Lasso', 'alpha': 0.9179415845918241, 'descriptor': '{\"name\": \"ECFP_counts\", \"parameters\": {\"radius\": 3, \"useFeatures\": true, \"nBits\": 2048}}'}. Best is trial 63 with value: -686.200491702346.\u001B[0m\n",
      "\u001B[32m[I 2021-11-04 13:39:24,361]\u001B[0m Trial 72 finished with value: -689.0625926641484 and parameters: {'algorithm_name': 'Lasso', 'alpha': 0.8962972230121302, 'descriptor': '{\"name\": \"ECFP_counts\", \"parameters\": {\"radius\": 3, \"useFeatures\": true, \"nBits\": 2048}}'}. Best is trial 63 with value: -686.200491702346.\u001B[0m\n",
      "\u001B[32m[I 2021-11-04 13:39:24,461]\u001B[0m Trial 73 finished with value: -686.6095026767039 and parameters: {'algorithm_name': 'Lasso', 'alpha': 0.9819326472536886, 'descriptor': '{\"name\": \"ECFP_counts\", \"parameters\": {\"radius\": 3, \"useFeatures\": true, \"nBits\": 2048}}'}. Best is trial 63 with value: -686.200491702346.\u001B[0m\n",
      "\u001B[32m[I 2021-11-04 13:39:24,570]\u001B[0m Trial 74 finished with value: -686.2015338077358 and parameters: {'algorithm_name': 'Lasso', 'alpha': 1.030447464197705, 'descriptor': '{\"name\": \"ECFP_counts\", \"parameters\": {\"radius\": 3, \"useFeatures\": true, \"nBits\": 2048}}'}. Best is trial 63 with value: -686.200491702346.\u001B[0m\n",
      "\u001B[32m[I 2021-11-04 13:39:24,679]\u001B[0m Trial 75 finished with value: -685.8500919441777 and parameters: {'algorithm_name': 'Lasso', 'alpha': 1.0759333514801048, 'descriptor': '{\"name\": \"ECFP_counts\", \"parameters\": {\"radius\": 3, \"useFeatures\": true, \"nBits\": 2048}}'}. Best is trial 75 with value: -685.8500919441777.\u001B[0m\n",
      "\u001B[32m[I 2021-11-04 13:39:24,794]\u001B[0m Trial 76 finished with value: -686.0923290016798 and parameters: {'algorithm_name': 'Lasso', 'alpha': 1.0475466332436227, 'descriptor': '{\"name\": \"ECFP_counts\", \"parameters\": {\"radius\": 3, \"useFeatures\": true, \"nBits\": 2048}}'}. Best is trial 75 with value: -685.8500919441777.\u001B[0m\n"
     ]
    },
    {
     "name": "stderr",
     "output_type": "stream",
     "text": [
      "\u001B[32m[I 2021-11-04 13:39:24,912]\u001B[0m Trial 77 finished with value: -686.0671553656374 and parameters: {'algorithm_name': 'Lasso', 'alpha': 1.0493091222333388, 'descriptor': '{\"name\": \"ECFP_counts\", \"parameters\": {\"radius\": 3, \"useFeatures\": true, \"nBits\": 2048}}'}. Best is trial 75 with value: -685.8500919441777.\u001B[0m\n",
      "\u001B[32m[I 2021-11-04 13:39:25,033]\u001B[0m Trial 78 finished with value: -686.0204826508867 and parameters: {'algorithm_name': 'Lasso', 'alpha': 1.052335798225665, 'descriptor': '{\"name\": \"ECFP_counts\", \"parameters\": {\"radius\": 3, \"useFeatures\": true, \"nBits\": 2048}}'}. Best is trial 75 with value: -685.8500919441777.\u001B[0m\n",
      "\u001B[32m[I 2021-11-04 13:39:25,140]\u001B[0m Trial 79 finished with value: -686.1391784934284 and parameters: {'algorithm_name': 'Lasso', 'alpha': 1.096321234130704, 'descriptor': '{\"name\": \"ECFP_counts\", \"parameters\": {\"radius\": 3, \"useFeatures\": true, \"nBits\": 2048}}'}. Best is trial 75 with value: -685.8500919441777.\u001B[0m\n",
      "\u001B[32m[I 2021-11-04 13:39:25,249]\u001B[0m Trial 80 finished with value: -685.9867982694376 and parameters: {'algorithm_name': 'Lasso', 'alpha': 1.085911910996863, 'descriptor': '{\"name\": \"ECFP_counts\", \"parameters\": {\"radius\": 3, \"useFeatures\": true, \"nBits\": 2048}}'}. Best is trial 75 with value: -685.8500919441777.\u001B[0m\n",
      "\u001B[32m[I 2021-11-04 13:39:25,353]\u001B[0m Trial 81 finished with value: -686.0684074397204 and parameters: {'algorithm_name': 'Lasso', 'alpha': 1.0914290765373647, 'descriptor': '{\"name\": \"ECFP_counts\", \"parameters\": {\"radius\": 3, \"useFeatures\": true, \"nBits\": 2048}}'}. Best is trial 75 with value: -685.8500919441777.\u001B[0m\n",
      "\u001B[32m[I 2021-11-04 13:39:25,454]\u001B[0m Trial 82 finished with value: -686.2811746289226 and parameters: {'algorithm_name': 'Lasso', 'alpha': 1.1042501339669304, 'descriptor': '{\"name\": \"ECFP_counts\", \"parameters\": {\"radius\": 3, \"useFeatures\": true, \"nBits\": 2048}}'}. Best is trial 75 with value: -685.8500919441777.\u001B[0m\n",
      "\u001B[32m[I 2021-11-04 13:39:25,555]\u001B[0m Trial 83 finished with value: -686.0018706549772 and parameters: {'algorithm_name': 'Lasso', 'alpha': 1.0869537774185196, 'descriptor': '{\"name\": \"ECFP_counts\", \"parameters\": {\"radius\": 3, \"useFeatures\": true, \"nBits\": 2048}}'}. Best is trial 75 with value: -685.8500919441777.\u001B[0m\n",
      "\u001B[32m[I 2021-11-04 13:39:25,674]\u001B[0m Trial 84 finished with value: -699.80134282903 and parameters: {'algorithm_name': 'Lasso', 'alpha': 0.738126812174513, 'descriptor': '{\"name\": \"ECFP_counts\", \"parameters\": {\"radius\": 3, \"useFeatures\": true, \"nBits\": 2048}}'}. Best is trial 75 with value: -685.8500919441777.\u001B[0m\n",
      "\u001B[32m[I 2021-11-04 13:39:25,783]\u001B[0m Trial 85 finished with value: -686.2710323960849 and parameters: {'algorithm_name': 'Lasso', 'alpha': 1.1037474078362752, 'descriptor': '{\"name\": \"ECFP_counts\", \"parameters\": {\"radius\": 3, \"useFeatures\": true, \"nBits\": 2048}}'}. Best is trial 75 with value: -685.8500919441777.\u001B[0m\n",
      "\u001B[32m[I 2021-11-04 13:39:25,898]\u001B[0m Trial 86 finished with value: -689.3370167857262 and parameters: {'algorithm_name': 'Lasso', 'alpha': 1.1987408045542607, 'descriptor': '{\"name\": \"ECFP_counts\", \"parameters\": {\"radius\": 3, \"useFeatures\": true, \"nBits\": 2048}}'}. Best is trial 75 with value: -685.8500919441777.\u001B[0m\n",
      "\u001B[32m[I 2021-11-04 13:39:26,007]\u001B[0m Trial 87 finished with value: -718.3413548448103 and parameters: {'algorithm_name': 'Ridge', 'alpha': 1.0764738917901533, 'descriptor': '{\"name\": \"ECFP_counts\", \"parameters\": {\"radius\": 3, \"useFeatures\": true, \"nBits\": 2048}}'}. Best is trial 75 with value: -685.8500919441777.\u001B[0m\n",
      "\u001B[32m[I 2021-11-04 13:39:26,109]\u001B[0m Trial 88 finished with value: -689.38994481363 and parameters: {'algorithm_name': 'Lasso', 'alpha': 1.2010720135034658, 'descriptor': '{\"name\": \"ECFP_counts\", \"parameters\": {\"radius\": 3, \"useFeatures\": true, \"nBits\": 2048}}'}. Best is trial 75 with value: -685.8500919441777.\u001B[0m\n",
      "\u001B[32m[I 2021-11-04 13:39:26,202]\u001B[0m Trial 89 finished with value: -4770.115252098986 and parameters: {'algorithm_name': 'Lasso', 'alpha': 0.7595203985450996, 'descriptor': '{\"name\": \"ECFP\", \"parameters\": {\"radius\": 3, \"nBits\": 2048}}'}. Best is trial 75 with value: -685.8500919441777.\u001B[0m\n",
      "\u001B[32m[I 2021-11-04 13:39:26,317]\u001B[0m Trial 90 finished with value: -686.4125307589106 and parameters: {'algorithm_name': 'Lasso', 'alpha': 1.1108126234478148, 'descriptor': '{\"name\": \"ECFP_counts\", \"parameters\": {\"radius\": 3, \"useFeatures\": true, \"nBits\": 2048}}'}. Best is trial 75 with value: -685.8500919441777.\u001B[0m\n",
      "\u001B[32m[I 2021-11-04 13:39:26,424]\u001B[0m Trial 91 finished with value: -686.0005982057559 and parameters: {'algorithm_name': 'Lasso', 'alpha': 1.053880347107005, 'descriptor': '{\"name\": \"ECFP_counts\", \"parameters\": {\"radius\": 3, \"useFeatures\": true, \"nBits\": 2048}}'}. Best is trial 75 with value: -685.8500919441777.\u001B[0m\n",
      "\u001B[32m[I 2021-11-04 13:39:26,524]\u001B[0m Trial 92 finished with value: -686.0406415417905 and parameters: {'algorithm_name': 'Lasso', 'alpha': 1.0508276331355182, 'descriptor': '{\"name\": \"ECFP_counts\", \"parameters\": {\"radius\": 3, \"useFeatures\": true, \"nBits\": 2048}}'}. Best is trial 75 with value: -685.8500919441777.\u001B[0m\n",
      "\u001B[32m[I 2021-11-04 13:39:26,620]\u001B[0m Trial 93 finished with value: -690.7964118300173 and parameters: {'algorithm_name': 'Lasso', 'alpha': 1.2481846265520806, 'descriptor': '{\"name\": \"ECFP_counts\", \"parameters\": {\"radius\": 3, \"useFeatures\": true, \"nBits\": 2048}}'}. Best is trial 75 with value: -685.8500919441777.\u001B[0m\n",
      "\u001B[32m[I 2021-11-04 13:39:26,734]\u001B[0m Trial 94 finished with value: -687.291213518079 and parameters: {'algorithm_name': 'Lasso', 'alpha': 1.1471750670942213, 'descriptor': '{\"name\": \"ECFP_counts\", \"parameters\": {\"radius\": 3, \"useFeatures\": true, \"nBits\": 2048}}'}. Best is trial 75 with value: -685.8500919441777.\u001B[0m\n",
      "\u001B[32m[I 2021-11-04 13:39:26,839]\u001B[0m Trial 95 finished with value: -686.1898916637314 and parameters: {'algorithm_name': 'Lasso', 'alpha': 1.037528832238964, 'descriptor': '{\"name\": \"ECFP_counts\", \"parameters\": {\"radius\": 3, \"useFeatures\": true, \"nBits\": 2048}}'}. Best is trial 75 with value: -685.8500919441777.\u001B[0m\n",
      "\u001B[32m[I 2021-11-04 13:39:26,935]\u001B[0m Trial 96 finished with value: -696.4930316083831 and parameters: {'algorithm_name': 'Lasso', 'alpha': 0.7806799259003079, 'descriptor': '{\"name\": \"ECFP_counts\", \"parameters\": {\"radius\": 3, \"useFeatures\": true, \"nBits\": 2048}}'}. Best is trial 75 with value: -685.8500919441777.\u001B[0m\n",
      "\u001B[32m[I 2021-11-04 13:39:27,049]\u001B[0m Trial 97 finished with value: -4440.134292648249 and parameters: {'algorithm_name': 'PLSRegression', 'n_components': 3, 'descriptor': '{\"name\": \"ECFP_counts\", \"parameters\": {\"radius\": 3, \"useFeatures\": true, \"nBits\": 2048}}'}. Best is trial 75 with value: -685.8500919441777.\u001B[0m\n",
      "\u001B[32m[I 2021-11-04 13:39:27,168]\u001B[0m Trial 98 finished with value: -690.8097379696738 and parameters: {'algorithm_name': 'Lasso', 'alpha': 1.248525940625059, 'descriptor': '{\"name\": \"ECFP_counts\", \"parameters\": {\"radius\": 3, \"useFeatures\": true, \"nBits\": 2048}}'}. Best is trial 75 with value: -685.8500919441777.\u001B[0m\n",
      "\u001B[32m[I 2021-11-04 13:39:27,283]\u001B[0m Trial 99 finished with value: -687.3992899508113 and parameters: {'algorithm_name': 'Lasso', 'alpha': 1.1511454589165866, 'descriptor': '{\"name\": \"ECFP_counts\", \"parameters\": {\"radius\": 3, \"useFeatures\": true, \"nBits\": 2048}}'}. Best is trial 75 with value: -685.8500919441777.\u001B[0m\n"
     ]
    }
   ],
   "source": [
    "study = optimize(config, study_name=\"my_study_rmse\")"
   ]
  },
  {
   "cell_type": "code",
   "execution_count": 28,
   "metadata": {},
   "outputs": [
    {
     "data": {
      "text/plain": [
       "[Text(0.5, 0, 'Trial number'), Text(0, 0.5, 'Ojbective value')]"
      ]
     },
     "execution_count": 28,
     "metadata": {},
     "output_type": "execute_result"
    },
    {
     "data": {
      "image/png": "[encoded data removed]",
      "text/plain": [
       "<Figure size 432x288 with 1 Axes>"
      ]
     },
     "metadata": {},
     "output_type": "display_data"
    },
    {
     "name": "stderr",
     "output_type": "stream",
     "text": [
      "/Users/kfwm779/miniconda/envs/Optuna_AZ/lib/python3.7/site-packages/sklearn/cross_decomposition/pls_.py:360: DeprecationWarning: scipy.linalg.pinv2 is deprecated since SciPy 1.7.0, use scipy.linalg.pinv instead\n",
      "  check_finite=False))\n",
      "/Users/kfwm779/miniconda/envs/Optuna_AZ/lib/python3.7/site-packages/sklearn/cross_decomposition/pls_.py:360: DeprecationWarning: scipy.linalg.pinv2 is deprecated since SciPy 1.7.0, use scipy.linalg.pinv instead\n",
      "  check_finite=False))\n",
      "/Users/kfwm779/miniconda/envs/Optuna_AZ/lib/python3.7/site-packages/sklearn/cross_decomposition/pls_.py:360: DeprecationWarning: scipy.linalg.pinv2 is deprecated since SciPy 1.7.0, use scipy.linalg.pinv instead\n",
      "  check_finite=False))\n",
      "/Users/kfwm779/miniconda/envs/Optuna_AZ/lib/python3.7/site-packages/sklearn/cross_decomposition/pls_.py:360: DeprecationWarning: scipy.linalg.pinv2 is deprecated since SciPy 1.7.0, use scipy.linalg.pinv instead\n",
      "  check_finite=False))\n",
      "/Users/kfwm779/miniconda/envs/Optuna_AZ/lib/python3.7/site-packages/sklearn/cross_decomposition/pls_.py:360: DeprecationWarning: scipy.linalg.pinv2 is deprecated since SciPy 1.7.0, use scipy.linalg.pinv instead\n",
      "  check_finite=False))\n",
      "/Users/kfwm779/miniconda/envs/Optuna_AZ/lib/python3.7/site-packages/sklearn/cross_decomposition/pls_.py:360: DeprecationWarning: scipy.linalg.pinv2 is deprecated since SciPy 1.7.0, use scipy.linalg.pinv instead\n",
      "  check_finite=False))\n",
      "/Users/kfwm779/miniconda/envs/Optuna_AZ/lib/python3.7/site-packages/sklearn/cross_decomposition/pls_.py:360: DeprecationWarning: scipy.linalg.pinv2 is deprecated since SciPy 1.7.0, use scipy.linalg.pinv instead\n",
      "  check_finite=False))\n",
      "/Users/kfwm779/miniconda/envs/Optuna_AZ/lib/python3.7/site-packages/sklearn/cross_decomposition/pls_.py:360: DeprecationWarning: scipy.linalg.pinv2 is deprecated since SciPy 1.7.0, use scipy.linalg.pinv instead\n",
      "  check_finite=False))\n",
      "/Users/kfwm779/miniconda/envs/Optuna_AZ/lib/python3.7/site-packages/sklearn/cross_decomposition/pls_.py:360: DeprecationWarning: scipy.linalg.pinv2 is deprecated since SciPy 1.7.0, use scipy.linalg.pinv instead\n",
      "  check_finite=False))\n",
      "/Users/kfwm779/miniconda/envs/Optuna_AZ/lib/python3.7/site-packages/sklearn/cross_decomposition/pls_.py:360: DeprecationWarning: scipy.linalg.pinv2 is deprecated since SciPy 1.7.0, use scipy.linalg.pinv instead\n",
      "  check_finite=False))\n",
      "/Users/kfwm779/miniconda/envs/Optuna_AZ/lib/python3.7/site-packages/sklearn/cross_decomposition/pls_.py:360: DeprecationWarning: scipy.linalg.pinv2 is deprecated since SciPy 1.7.0, use scipy.linalg.pinv instead\n",
      "  check_finite=False))\n",
      "/Users/kfwm779/miniconda/envs/Optuna_AZ/lib/python3.7/site-packages/sklearn/cross_decomposition/pls_.py:360: DeprecationWarning: scipy.linalg.pinv2 is deprecated since SciPy 1.7.0, use scipy.linalg.pinv instead\n",
      "  check_finite=False))\n",
      "/Users/kfwm779/miniconda/envs/Optuna_AZ/lib/python3.7/site-packages/sklearn/cross_decomposition/pls_.py:360: DeprecationWarning: scipy.linalg.pinv2 is deprecated since SciPy 1.7.0, use scipy.linalg.pinv instead\n",
      "  check_finite=False))\n",
      "/Users/kfwm779/miniconda/envs/Optuna_AZ/lib/python3.7/site-packages/sklearn/cross_decomposition/pls_.py:360: DeprecationWarning: scipy.linalg.pinv2 is deprecated since SciPy 1.7.0, use scipy.linalg.pinv instead\n",
      "  check_finite=False))\n",
      "/Users/kfwm779/miniconda/envs/Optuna_AZ/lib/python3.7/site-packages/sklearn/cross_decomposition/pls_.py:360: DeprecationWarning: scipy.linalg.pinv2 is deprecated since SciPy 1.7.0, use scipy.linalg.pinv instead\n",
      "  check_finite=False))\n",
      "/Users/kfwm779/miniconda/envs/Optuna_AZ/lib/python3.7/site-packages/sklearn/cross_decomposition/pls_.py:360: DeprecationWarning: scipy.linalg.pinv2 is deprecated since SciPy 1.7.0, use scipy.linalg.pinv instead\n",
      "  check_finite=False))\n",
      "/Users/kfwm779/miniconda/envs/Optuna_AZ/lib/python3.7/site-packages/sklearn/cross_decomposition/pls_.py:360: DeprecationWarning: scipy.linalg.pinv2 is deprecated since SciPy 1.7.0, use scipy.linalg.pinv instead\n",
      "  check_finite=False))\n",
      "/Users/kfwm779/miniconda/envs/Optuna_AZ/lib/python3.7/site-packages/sklearn/cross_decomposition/pls_.py:360: DeprecationWarning: scipy.linalg.pinv2 is deprecated since SciPy 1.7.0, use scipy.linalg.pinv instead\n",
      "  check_finite=False))\n",
      "/Users/kfwm779/miniconda/envs/Optuna_AZ/lib/python3.7/site-packages/sklearn/cross_decomposition/pls_.py:360: DeprecationWarning: scipy.linalg.pinv2 is deprecated since SciPy 1.7.0, use scipy.linalg.pinv instead\n",
      "  check_finite=False))\n",
      "/Users/kfwm779/miniconda/envs/Optuna_AZ/lib/python3.7/site-packages/sklearn/cross_decomposition/pls_.py:360: DeprecationWarning: scipy.linalg.pinv2 is deprecated since SciPy 1.7.0, use scipy.linalg.pinv instead\n",
      "  check_finite=False))\n",
      "/Users/kfwm779/miniconda/envs/Optuna_AZ/lib/python3.7/site-packages/sklearn/cross_decomposition/pls_.py:360: DeprecationWarning: scipy.linalg.pinv2 is deprecated since SciPy 1.7.0, use scipy.linalg.pinv instead\n",
      "  check_finite=False))\n",
      "/Users/kfwm779/miniconda/envs/Optuna_AZ/lib/python3.7/site-packages/sklearn/cross_decomposition/pls_.py:360: DeprecationWarning: scipy.linalg.pinv2 is deprecated since SciPy 1.7.0, use scipy.linalg.pinv instead\n",
      "  check_finite=False))\n",
      "/Users/kfwm779/miniconda/envs/Optuna_AZ/lib/python3.7/site-packages/sklearn/cross_decomposition/pls_.py:360: DeprecationWarning: scipy.linalg.pinv2 is deprecated since SciPy 1.7.0, use scipy.linalg.pinv instead\n",
      "  check_finite=False))\n",
      "/Users/kfwm779/miniconda/envs/Optuna_AZ/lib/python3.7/site-packages/sklearn/cross_decomposition/pls_.py:360: DeprecationWarning: scipy.linalg.pinv2 is deprecated since SciPy 1.7.0, use scipy.linalg.pinv instead\n",
      "  check_finite=False))\n"
     ]
    }
   ],
   "source": [
    "ax = sns.scatterplot(data=study.trials_dataframe(), x=\"number\", y=\"value\")\n",
    "ax.set(xlabel=\"Trial number\", ylabel=\"Ojbective value\")"
   ]
  }
 ],
 "metadata": {
  "kernelspec": {
   "display_name": "Python 3 (ipykernel)",
   "language": "python",
   "name": "python3"
  },
  "language_info": {
   "codemirror_mode": {
    "name": "ipython",
    "version": 3
   },
   "file_extension": ".py",
   "mimetype": "text/x-python",
   "name": "python",
   "nbconvert_exporter": "python",
   "pygments_lexer": "ipython3",
   "version": "3.7.10"
  }
 },
 "nbformat": 4,
 "nbformat_minor": 2
}